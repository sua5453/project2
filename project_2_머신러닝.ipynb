{
  "nbformat": 4,
  "nbformat_minor": 0,
  "metadata": {
    "colab": {
      "provenance": []
    },
    "kernelspec": {
      "name": "python3",
      "display_name": "Python 3"
    },
    "language_info": {
      "name": "python"
    }
  },
  "cells": [
    {
      "cell_type": "code",
      "execution_count": null,
      "metadata": {
        "id": "BvQempoFuBD0"
      },
      "outputs": [],
      "source": [
        "import pandas as pd\n",
        "original = pd.read_excel('/content/drive/MyDrive/Colab Notebooks/데이터 전처리 최종.xlsx')\n",
        "df= original.copy()"
      ]
    },
    {
      "cell_type": "code",
      "source": [
        "df = df.iloc[:,1:]"
      ],
      "metadata": {
        "id": "puBIq0h2u_bF"
      },
      "execution_count": null,
      "outputs": []
    },
    {
      "cell_type": "code",
      "source": [
        "df"
      ],
      "metadata": {
        "colab": {
          "base_uri": "https://localhost:8080/",
          "height": 991
        },
        "id": "RyxmQz-ywIDt",
        "outputId": "9a14ebf2-eb3f-48d1-fe11-bd937d42d43c"
      },
      "execution_count": null,
      "outputs": [
        {
          "output_type": "execute_result",
          "data": {
            "text/plain": [
              "                                                    item  \\\n",
              "0                      TWICE 11th MINI ALBUM BETWEEN 1&2   \n",
              "1                               1st Mini Album IM NAYEON   \n",
              "2                  TWICE 1st Mini Album The Story Begins   \n",
              "3             TWICE 3rd Mini Album TWICEcoaster : LANE 1   \n",
              "4                    Special Album TWICEcoaster : LANE 2   \n",
              "...                                                  ...   \n",
              "22173               SEVENTEEN - \"THE NAME ;17\" PHOTOBOOK   \n",
              "22174                            WONHO - Bittersweet SET   \n",
              "22175               WONHO - Bittersweet - VER. 1 (GREEN)   \n",
              "22176  BLACKPINK - BORN PINK (2nd Album) - LIMITED VI...   \n",
              "22177    j-hope - Jack In The Box [LP] (Limited Edition)   \n",
              "\n",
              "                                                     url     artist  \\\n",
              "0      https://en.thejypshop.com/product/twice-11th-m...      TWICE   \n",
              "1      https://en.thejypshop.com/product/1st-mini-alb...     NAYEON   \n",
              "2      https://en.thejypshop.com/product/twice-1st-mi...      TWICE   \n",
              "3      https://en.thejypshop.com/product/twice-3rd-mi...      TWICE   \n",
              "4      https://en.thejypshop.com/product/special-albu...      TWICE   \n",
              "...                                                  ...        ...   \n",
              "22173  https://www.kpopstoreinusa.com/products/sevent...  SEVENTEEN   \n",
              "22174  https://www.kpopstoreinusa.com/products/wonho-...   MONSTA X   \n",
              "22175  https://www.kpopstoreinusa.com/products/wonho-...   MONSTA X   \n",
              "22176  https://www.kpopstoreinusa.com/products/blackp...  BLACKPINK   \n",
              "22177  https://www.kpopstoreinusa.com/products/j-hope...        BTS   \n",
              "\n",
              "       discount_price  price  is_sold_out         ds          vendor  \\\n",
              "0               18.55  22.90        False 2022-11-14         jypshop   \n",
              "1               17.82  22.00        False 2022-11-14         jypshop   \n",
              "2               11.91  14.70        False 2022-11-14         jypshop   \n",
              "3               12.64  15.60        False 2022-11-14         jypshop   \n",
              "4               14.09  17.40        False 2022-11-14         jypshop   \n",
              "...               ...    ...          ...        ...             ...   \n",
              "22173             NaN  65.99        False 2022-11-14  kpopstoreinusa   \n",
              "22174             NaN  62.99         True 2022-11-14  kpopstoreinusa   \n",
              "22175             NaN  21.99        False 2022-11-14  kpopstoreinusa   \n",
              "22176             NaN  69.99        False 2022-11-14  kpopstoreinusa   \n",
              "22177             NaN  64.99         True 2022-11-14  kpopstoreinusa   \n",
              "\n",
              "       is_autograph  avg_review_value  number_of_questions  number_of_reviews  \\\n",
              "0               NaN               NaN                  NaN                NaN   \n",
              "1               NaN               NaN                  NaN                NaN   \n",
              "2               NaN               NaN                  NaN                NaN   \n",
              "3               NaN               NaN                  NaN                NaN   \n",
              "4               NaN               NaN                  NaN                NaN   \n",
              "...             ...               ...                  ...                ...   \n",
              "22173           NaN               NaN                  NaN                NaN   \n",
              "22174           NaN               NaN                  NaN                NaN   \n",
              "22175           NaN               NaN                  NaN                NaN   \n",
              "22176           NaN               NaN                  NaN                NaN   \n",
              "22177           NaN               NaN                  NaN                NaN   \n",
              "\n",
              "       presale  is_event category  year  month             type  count  \\\n",
              "0          NaN     False    ALBUM  2022     11             Mini    449   \n",
              "1          NaN     False    ALBUM  2022     11             Mini      8   \n",
              "2          NaN     False    ALBUM  2022     11             Mini    449   \n",
              "3          NaN     False    ALBUM  2022     11             Mini    449   \n",
              "4          NaN     False    ALBUM  2022     11          Special    449   \n",
              "...        ...       ...      ...   ...    ...              ...    ...   \n",
              "22173      1.0     False      ect  2022     11       PHOTO BOOK    311   \n",
              "22174      1.0     False      ect  2022     11              NaN    446   \n",
              "22175      1.0     False      ect  2022     11              NaN    446   \n",
              "22176      1.0     False    ALBUM  2022     11  LIMITED EDITION    192   \n",
              "22177      1.0     False      ect  2022     11  LIMITED EDITION    700   \n",
              "\n",
              "       artist_isna  \n",
              "0            False  \n",
              "1            False  \n",
              "2            False  \n",
              "3            False  \n",
              "4            False  \n",
              "...            ...  \n",
              "22173        False  \n",
              "22174        False  \n",
              "22175        False  \n",
              "22176        False  \n",
              "22177        False  \n",
              "\n",
              "[22178 rows x 20 columns]"
            ],
            "text/html": [
              "\n",
              "  <div id=\"df-5e758bd7-2c3d-45ec-8934-d345643c7e17\">\n",
              "    <div class=\"colab-df-container\">\n",
              "      <div>\n",
              "<style scoped>\n",
              "    .dataframe tbody tr th:only-of-type {\n",
              "        vertical-align: middle;\n",
              "    }\n",
              "\n",
              "    .dataframe tbody tr th {\n",
              "        vertical-align: top;\n",
              "    }\n",
              "\n",
              "    .dataframe thead th {\n",
              "        text-align: right;\n",
              "    }\n",
              "</style>\n",
              "<table border=\"1\" class=\"dataframe\">\n",
              "  <thead>\n",
              "    <tr style=\"text-align: right;\">\n",
              "      <th></th>\n",
              "      <th>item</th>\n",
              "      <th>url</th>\n",
              "      <th>artist</th>\n",
              "      <th>discount_price</th>\n",
              "      <th>price</th>\n",
              "      <th>is_sold_out</th>\n",
              "      <th>ds</th>\n",
              "      <th>vendor</th>\n",
              "      <th>is_autograph</th>\n",
              "      <th>avg_review_value</th>\n",
              "      <th>number_of_questions</th>\n",
              "      <th>number_of_reviews</th>\n",
              "      <th>presale</th>\n",
              "      <th>is_event</th>\n",
              "      <th>category</th>\n",
              "      <th>year</th>\n",
              "      <th>month</th>\n",
              "      <th>type</th>\n",
              "      <th>count</th>\n",
              "      <th>artist_isna</th>\n",
              "    </tr>\n",
              "  </thead>\n",
              "  <tbody>\n",
              "    <tr>\n",
              "      <th>0</th>\n",
              "      <td>TWICE 11th MINI ALBUM BETWEEN 1&amp;2</td>\n",
              "      <td>https://en.thejypshop.com/product/twice-11th-m...</td>\n",
              "      <td>TWICE</td>\n",
              "      <td>18.55</td>\n",
              "      <td>22.90</td>\n",
              "      <td>False</td>\n",
              "      <td>2022-11-14</td>\n",
              "      <td>jypshop</td>\n",
              "      <td>NaN</td>\n",
              "      <td>NaN</td>\n",
              "      <td>NaN</td>\n",
              "      <td>NaN</td>\n",
              "      <td>NaN</td>\n",
              "      <td>False</td>\n",
              "      <td>ALBUM</td>\n",
              "      <td>2022</td>\n",
              "      <td>11</td>\n",
              "      <td>Mini</td>\n",
              "      <td>449</td>\n",
              "      <td>False</td>\n",
              "    </tr>\n",
              "    <tr>\n",
              "      <th>1</th>\n",
              "      <td>1st Mini Album IM NAYEON</td>\n",
              "      <td>https://en.thejypshop.com/product/1st-mini-alb...</td>\n",
              "      <td>NAYEON</td>\n",
              "      <td>17.82</td>\n",
              "      <td>22.00</td>\n",
              "      <td>False</td>\n",
              "      <td>2022-11-14</td>\n",
              "      <td>jypshop</td>\n",
              "      <td>NaN</td>\n",
              "      <td>NaN</td>\n",
              "      <td>NaN</td>\n",
              "      <td>NaN</td>\n",
              "      <td>NaN</td>\n",
              "      <td>False</td>\n",
              "      <td>ALBUM</td>\n",
              "      <td>2022</td>\n",
              "      <td>11</td>\n",
              "      <td>Mini</td>\n",
              "      <td>8</td>\n",
              "      <td>False</td>\n",
              "    </tr>\n",
              "    <tr>\n",
              "      <th>2</th>\n",
              "      <td>TWICE 1st Mini Album The Story Begins</td>\n",
              "      <td>https://en.thejypshop.com/product/twice-1st-mi...</td>\n",
              "      <td>TWICE</td>\n",
              "      <td>11.91</td>\n",
              "      <td>14.70</td>\n",
              "      <td>False</td>\n",
              "      <td>2022-11-14</td>\n",
              "      <td>jypshop</td>\n",
              "      <td>NaN</td>\n",
              "      <td>NaN</td>\n",
              "      <td>NaN</td>\n",
              "      <td>NaN</td>\n",
              "      <td>NaN</td>\n",
              "      <td>False</td>\n",
              "      <td>ALBUM</td>\n",
              "      <td>2022</td>\n",
              "      <td>11</td>\n",
              "      <td>Mini</td>\n",
              "      <td>449</td>\n",
              "      <td>False</td>\n",
              "    </tr>\n",
              "    <tr>\n",
              "      <th>3</th>\n",
              "      <td>TWICE 3rd Mini Album TWICEcoaster : LANE 1</td>\n",
              "      <td>https://en.thejypshop.com/product/twice-3rd-mi...</td>\n",
              "      <td>TWICE</td>\n",
              "      <td>12.64</td>\n",
              "      <td>15.60</td>\n",
              "      <td>False</td>\n",
              "      <td>2022-11-14</td>\n",
              "      <td>jypshop</td>\n",
              "      <td>NaN</td>\n",
              "      <td>NaN</td>\n",
              "      <td>NaN</td>\n",
              "      <td>NaN</td>\n",
              "      <td>NaN</td>\n",
              "      <td>False</td>\n",
              "      <td>ALBUM</td>\n",
              "      <td>2022</td>\n",
              "      <td>11</td>\n",
              "      <td>Mini</td>\n",
              "      <td>449</td>\n",
              "      <td>False</td>\n",
              "    </tr>\n",
              "    <tr>\n",
              "      <th>4</th>\n",
              "      <td>Special Album TWICEcoaster : LANE 2</td>\n",
              "      <td>https://en.thejypshop.com/product/special-albu...</td>\n",
              "      <td>TWICE</td>\n",
              "      <td>14.09</td>\n",
              "      <td>17.40</td>\n",
              "      <td>False</td>\n",
              "      <td>2022-11-14</td>\n",
              "      <td>jypshop</td>\n",
              "      <td>NaN</td>\n",
              "      <td>NaN</td>\n",
              "      <td>NaN</td>\n",
              "      <td>NaN</td>\n",
              "      <td>NaN</td>\n",
              "      <td>False</td>\n",
              "      <td>ALBUM</td>\n",
              "      <td>2022</td>\n",
              "      <td>11</td>\n",
              "      <td>Special</td>\n",
              "      <td>449</td>\n",
              "      <td>False</td>\n",
              "    </tr>\n",
              "    <tr>\n",
              "      <th>...</th>\n",
              "      <td>...</td>\n",
              "      <td>...</td>\n",
              "      <td>...</td>\n",
              "      <td>...</td>\n",
              "      <td>...</td>\n",
              "      <td>...</td>\n",
              "      <td>...</td>\n",
              "      <td>...</td>\n",
              "      <td>...</td>\n",
              "      <td>...</td>\n",
              "      <td>...</td>\n",
              "      <td>...</td>\n",
              "      <td>...</td>\n",
              "      <td>...</td>\n",
              "      <td>...</td>\n",
              "      <td>...</td>\n",
              "      <td>...</td>\n",
              "      <td>...</td>\n",
              "      <td>...</td>\n",
              "      <td>...</td>\n",
              "    </tr>\n",
              "    <tr>\n",
              "      <th>22173</th>\n",
              "      <td>SEVENTEEN - \"THE NAME ;17\" PHOTOBOOK</td>\n",
              "      <td>https://www.kpopstoreinusa.com/products/sevent...</td>\n",
              "      <td>SEVENTEEN</td>\n",
              "      <td>NaN</td>\n",
              "      <td>65.99</td>\n",
              "      <td>False</td>\n",
              "      <td>2022-11-14</td>\n",
              "      <td>kpopstoreinusa</td>\n",
              "      <td>NaN</td>\n",
              "      <td>NaN</td>\n",
              "      <td>NaN</td>\n",
              "      <td>NaN</td>\n",
              "      <td>1.0</td>\n",
              "      <td>False</td>\n",
              "      <td>ect</td>\n",
              "      <td>2022</td>\n",
              "      <td>11</td>\n",
              "      <td>PHOTO BOOK</td>\n",
              "      <td>311</td>\n",
              "      <td>False</td>\n",
              "    </tr>\n",
              "    <tr>\n",
              "      <th>22174</th>\n",
              "      <td>WONHO - Bittersweet SET</td>\n",
              "      <td>https://www.kpopstoreinusa.com/products/wonho-...</td>\n",
              "      <td>MONSTA X</td>\n",
              "      <td>NaN</td>\n",
              "      <td>62.99</td>\n",
              "      <td>True</td>\n",
              "      <td>2022-11-14</td>\n",
              "      <td>kpopstoreinusa</td>\n",
              "      <td>NaN</td>\n",
              "      <td>NaN</td>\n",
              "      <td>NaN</td>\n",
              "      <td>NaN</td>\n",
              "      <td>1.0</td>\n",
              "      <td>False</td>\n",
              "      <td>ect</td>\n",
              "      <td>2022</td>\n",
              "      <td>11</td>\n",
              "      <td>NaN</td>\n",
              "      <td>446</td>\n",
              "      <td>False</td>\n",
              "    </tr>\n",
              "    <tr>\n",
              "      <th>22175</th>\n",
              "      <td>WONHO - Bittersweet - VER. 1 (GREEN)</td>\n",
              "      <td>https://www.kpopstoreinusa.com/products/wonho-...</td>\n",
              "      <td>MONSTA X</td>\n",
              "      <td>NaN</td>\n",
              "      <td>21.99</td>\n",
              "      <td>False</td>\n",
              "      <td>2022-11-14</td>\n",
              "      <td>kpopstoreinusa</td>\n",
              "      <td>NaN</td>\n",
              "      <td>NaN</td>\n",
              "      <td>NaN</td>\n",
              "      <td>NaN</td>\n",
              "      <td>1.0</td>\n",
              "      <td>False</td>\n",
              "      <td>ect</td>\n",
              "      <td>2022</td>\n",
              "      <td>11</td>\n",
              "      <td>NaN</td>\n",
              "      <td>446</td>\n",
              "      <td>False</td>\n",
              "    </tr>\n",
              "    <tr>\n",
              "      <th>22176</th>\n",
              "      <td>BLACKPINK - BORN PINK (2nd Album) - LIMITED VI...</td>\n",
              "      <td>https://www.kpopstoreinusa.com/products/blackp...</td>\n",
              "      <td>BLACKPINK</td>\n",
              "      <td>NaN</td>\n",
              "      <td>69.99</td>\n",
              "      <td>False</td>\n",
              "      <td>2022-11-14</td>\n",
              "      <td>kpopstoreinusa</td>\n",
              "      <td>NaN</td>\n",
              "      <td>NaN</td>\n",
              "      <td>NaN</td>\n",
              "      <td>NaN</td>\n",
              "      <td>1.0</td>\n",
              "      <td>False</td>\n",
              "      <td>ALBUM</td>\n",
              "      <td>2022</td>\n",
              "      <td>11</td>\n",
              "      <td>LIMITED EDITION</td>\n",
              "      <td>192</td>\n",
              "      <td>False</td>\n",
              "    </tr>\n",
              "    <tr>\n",
              "      <th>22177</th>\n",
              "      <td>j-hope - Jack In The Box [LP] (Limited Edition)</td>\n",
              "      <td>https://www.kpopstoreinusa.com/products/j-hope...</td>\n",
              "      <td>BTS</td>\n",
              "      <td>NaN</td>\n",
              "      <td>64.99</td>\n",
              "      <td>True</td>\n",
              "      <td>2022-11-14</td>\n",
              "      <td>kpopstoreinusa</td>\n",
              "      <td>NaN</td>\n",
              "      <td>NaN</td>\n",
              "      <td>NaN</td>\n",
              "      <td>NaN</td>\n",
              "      <td>1.0</td>\n",
              "      <td>False</td>\n",
              "      <td>ect</td>\n",
              "      <td>2022</td>\n",
              "      <td>11</td>\n",
              "      <td>LIMITED EDITION</td>\n",
              "      <td>700</td>\n",
              "      <td>False</td>\n",
              "    </tr>\n",
              "  </tbody>\n",
              "</table>\n",
              "<p>22178 rows × 20 columns</p>\n",
              "</div>\n",
              "      <button class=\"colab-df-convert\" onclick=\"convertToInteractive('df-5e758bd7-2c3d-45ec-8934-d345643c7e17')\"\n",
              "              title=\"Convert this dataframe to an interactive table.\"\n",
              "              style=\"display:none;\">\n",
              "        \n",
              "  <svg xmlns=\"http://www.w3.org/2000/svg\" height=\"24px\"viewBox=\"0 0 24 24\"\n",
              "       width=\"24px\">\n",
              "    <path d=\"M0 0h24v24H0V0z\" fill=\"none\"/>\n",
              "    <path d=\"M18.56 5.44l.94 2.06.94-2.06 2.06-.94-2.06-.94-.94-2.06-.94 2.06-2.06.94zm-11 1L8.5 8.5l.94-2.06 2.06-.94-2.06-.94L8.5 2.5l-.94 2.06-2.06.94zm10 10l.94 2.06.94-2.06 2.06-.94-2.06-.94-.94-2.06-.94 2.06-2.06.94z\"/><path d=\"M17.41 7.96l-1.37-1.37c-.4-.4-.92-.59-1.43-.59-.52 0-1.04.2-1.43.59L10.3 9.45l-7.72 7.72c-.78.78-.78 2.05 0 2.83L4 21.41c.39.39.9.59 1.41.59.51 0 1.02-.2 1.41-.59l7.78-7.78 2.81-2.81c.8-.78.8-2.07 0-2.86zM5.41 20L4 18.59l7.72-7.72 1.47 1.35L5.41 20z\"/>\n",
              "  </svg>\n",
              "      </button>\n",
              "      \n",
              "  <style>\n",
              "    .colab-df-container {\n",
              "      display:flex;\n",
              "      flex-wrap:wrap;\n",
              "      gap: 12px;\n",
              "    }\n",
              "\n",
              "    .colab-df-convert {\n",
              "      background-color: #E8F0FE;\n",
              "      border: none;\n",
              "      border-radius: 50%;\n",
              "      cursor: pointer;\n",
              "      display: none;\n",
              "      fill: #1967D2;\n",
              "      height: 32px;\n",
              "      padding: 0 0 0 0;\n",
              "      width: 32px;\n",
              "    }\n",
              "\n",
              "    .colab-df-convert:hover {\n",
              "      background-color: #E2EBFA;\n",
              "      box-shadow: 0px 1px 2px rgba(60, 64, 67, 0.3), 0px 1px 3px 1px rgba(60, 64, 67, 0.15);\n",
              "      fill: #174EA6;\n",
              "    }\n",
              "\n",
              "    [theme=dark] .colab-df-convert {\n",
              "      background-color: #3B4455;\n",
              "      fill: #D2E3FC;\n",
              "    }\n",
              "\n",
              "    [theme=dark] .colab-df-convert:hover {\n",
              "      background-color: #434B5C;\n",
              "      box-shadow: 0px 1px 3px 1px rgba(0, 0, 0, 0.15);\n",
              "      filter: drop-shadow(0px 1px 2px rgba(0, 0, 0, 0.3));\n",
              "      fill: #FFFFFF;\n",
              "    }\n",
              "  </style>\n",
              "\n",
              "      <script>\n",
              "        const buttonEl =\n",
              "          document.querySelector('#df-5e758bd7-2c3d-45ec-8934-d345643c7e17 button.colab-df-convert');\n",
              "        buttonEl.style.display =\n",
              "          google.colab.kernel.accessAllowed ? 'block' : 'none';\n",
              "\n",
              "        async function convertToInteractive(key) {\n",
              "          const element = document.querySelector('#df-5e758bd7-2c3d-45ec-8934-d345643c7e17');\n",
              "          const dataTable =\n",
              "            await google.colab.kernel.invokeFunction('convertToInteractive',\n",
              "                                                     [key], {});\n",
              "          if (!dataTable) return;\n",
              "\n",
              "          const docLinkHtml = 'Like what you see? Visit the ' +\n",
              "            '<a target=\"_blank\" href=https://colab.research.google.com/notebooks/data_table.ipynb>data table notebook</a>'\n",
              "            + ' to learn more about interactive tables.';\n",
              "          element.innerHTML = '';\n",
              "          dataTable['output_type'] = 'display_data';\n",
              "          await google.colab.output.renderOutput(dataTable, element);\n",
              "          const docLink = document.createElement('div');\n",
              "          docLink.innerHTML = docLinkHtml;\n",
              "          element.appendChild(docLink);\n",
              "        }\n",
              "      </script>\n",
              "    </div>\n",
              "  </div>\n",
              "  "
            ]
          },
          "metadata": {},
          "execution_count": 3
        }
      ]
    },
    {
      "cell_type": "code",
      "source": [
        "df.isna().sum()"
      ],
      "metadata": {
        "colab": {
          "base_uri": "https://localhost:8080/"
        },
        "id": "K2k5U5XYwNIq",
        "outputId": "dd454b34-e3c6-4306-a071-c15111e03f51"
      },
      "execution_count": null,
      "outputs": [
        {
          "output_type": "execute_result",
          "data": {
            "text/plain": [
              "item                       0\n",
              "url                        0\n",
              "artist                  3019\n",
              "discount_price         17135\n",
              "price                      0\n",
              "is_sold_out                0\n",
              "ds                         0\n",
              "vendor                     0\n",
              "is_autograph            9087\n",
              "avg_review_value       11512\n",
              "number_of_questions    11512\n",
              "number_of_reviews      11512\n",
              "presale                11836\n",
              "is_event                   0\n",
              "category                   0\n",
              "year                       0\n",
              "month                      0\n",
              "type                   10462\n",
              "count                      0\n",
              "artist_isna                0\n",
              "dtype: int64"
            ]
          },
          "metadata": {},
          "execution_count": 4
        }
      ]
    },
    {
      "cell_type": "code",
      "source": [
        "!pip install category_encoders \n",
        "!pip install eli5 \n",
        "!pip install pdpbox\n",
        "\n",
        "import pandas as pd\n",
        "import numpy as np\n",
        "import matplotlib.pyplot as plt\n",
        "import seaborn as sns\n",
        "\n",
        "from sklearn.linear_model import LinearRegression\n",
        "from sklearn.impute import SimpleImputer\n",
        "from sklearn.preprocessing import MinMaxScaler\n",
        "from sklearn.model_selection import train_test_split\n",
        "from sklearn.preprocessing import LabelEncoder\n",
        "from sklearn.metrics import roc_auc_score\n",
        "from sklearn.pipeline import make_pipeline\n",
        "from category_encoders import OrdinalEncoder\n",
        "from sklearn.ensemble import RandomForestClassifier\n"
      ],
      "metadata": {
        "colab": {
          "base_uri": "https://localhost:8080/"
        },
        "id": "C26IeTOnwVnc",
        "outputId": "74a7ee28-fb29-49f6-9a9f-669b9434b747"
      },
      "execution_count": null,
      "outputs": [
        {
          "output_type": "stream",
          "name": "stdout",
          "text": [
            "Looking in indexes: https://pypi.org/simple, https://us-python.pkg.dev/colab-wheels/public/simple/\n",
            "Requirement already satisfied: category_encoders in /usr/local/lib/python3.8/dist-packages (2.6.0)\n",
            "Requirement already satisfied: pandas>=1.0.5 in /usr/local/lib/python3.8/dist-packages (from category_encoders) (1.3.5)\n",
            "Requirement already satisfied: scipy>=1.0.0 in /usr/local/lib/python3.8/dist-packages (from category_encoders) (1.7.3)\n",
            "Requirement already satisfied: patsy>=0.5.1 in /usr/local/lib/python3.8/dist-packages (from category_encoders) (0.5.3)\n",
            "Requirement already satisfied: scikit-learn>=0.20.0 in /usr/local/lib/python3.8/dist-packages (from category_encoders) (1.0)\n",
            "Requirement already satisfied: statsmodels>=0.9.0 in /usr/local/lib/python3.8/dist-packages (from category_encoders) (0.12.2)\n",
            "Requirement already satisfied: numpy>=1.14.0 in /usr/local/lib/python3.8/dist-packages (from category_encoders) (1.21.6)\n",
            "Requirement already satisfied: python-dateutil>=2.7.3 in /usr/local/lib/python3.8/dist-packages (from pandas>=1.0.5->category_encoders) (2.8.2)\n",
            "Requirement already satisfied: pytz>=2017.3 in /usr/local/lib/python3.8/dist-packages (from pandas>=1.0.5->category_encoders) (2022.7.1)\n",
            "Requirement already satisfied: six in /usr/local/lib/python3.8/dist-packages (from patsy>=0.5.1->category_encoders) (1.15.0)\n",
            "Requirement already satisfied: joblib>=0.11 in /usr/local/lib/python3.8/dist-packages (from scikit-learn>=0.20.0->category_encoders) (1.2.0)\n",
            "Requirement already satisfied: threadpoolctl>=2.0.0 in /usr/local/lib/python3.8/dist-packages (from scikit-learn>=0.20.0->category_encoders) (3.1.0)\n",
            "Looking in indexes: https://pypi.org/simple, https://us-python.pkg.dev/colab-wheels/public/simple/\n",
            "Requirement already satisfied: eli5 in /usr/local/lib/python3.8/dist-packages (0.13.0)\n",
            "Requirement already satisfied: attrs>17.1.0 in /usr/local/lib/python3.8/dist-packages (from eli5) (22.2.0)\n",
            "Requirement already satisfied: graphviz in /usr/local/lib/python3.8/dist-packages (from eli5) (0.10.1)\n",
            "Requirement already satisfied: tabulate>=0.7.7 in /usr/local/lib/python3.8/dist-packages (from eli5) (0.8.10)\n",
            "Requirement already satisfied: six in /usr/local/lib/python3.8/dist-packages (from eli5) (1.15.0)\n",
            "Requirement already satisfied: jinja2>=3.0.0 in /usr/local/lib/python3.8/dist-packages (from eli5) (3.1.2)\n",
            "Requirement already satisfied: scikit-learn>=0.20 in /usr/local/lib/python3.8/dist-packages (from eli5) (1.0)\n",
            "Requirement already satisfied: scipy in /usr/local/lib/python3.8/dist-packages (from eli5) (1.7.3)\n",
            "Requirement already satisfied: numpy>=1.9.0 in /usr/local/lib/python3.8/dist-packages (from eli5) (1.21.6)\n",
            "Requirement already satisfied: MarkupSafe>=2.0 in /usr/local/lib/python3.8/dist-packages (from jinja2>=3.0.0->eli5) (2.0.1)\n",
            "Requirement already satisfied: threadpoolctl>=2.0.0 in /usr/local/lib/python3.8/dist-packages (from scikit-learn>=0.20->eli5) (3.1.0)\n",
            "Requirement already satisfied: joblib>=0.11 in /usr/local/lib/python3.8/dist-packages (from scikit-learn>=0.20->eli5) (1.2.0)\n",
            "Looking in indexes: https://pypi.org/simple, https://us-python.pkg.dev/colab-wheels/public/simple/\n",
            "Requirement already satisfied: pdpbox in /usr/local/lib/python3.8/dist-packages (0.2.1)\n",
            "Requirement already satisfied: psutil in /usr/local/lib/python3.8/dist-packages (from pdpbox) (5.4.8)\n",
            "Requirement already satisfied: joblib in /usr/local/lib/python3.8/dist-packages (from pdpbox) (1.2.0)\n",
            "Requirement already satisfied: pandas in /usr/local/lib/python3.8/dist-packages (from pdpbox) (1.3.5)\n",
            "Requirement already satisfied: numpy in /usr/local/lib/python3.8/dist-packages (from pdpbox) (1.21.6)\n",
            "Requirement already satisfied: matplotlib==3.1.1 in /usr/local/lib/python3.8/dist-packages (from pdpbox) (3.1.1)\n",
            "Requirement already satisfied: scipy in /usr/local/lib/python3.8/dist-packages (from pdpbox) (1.7.3)\n",
            "Requirement already satisfied: sklearn in /usr/local/lib/python3.8/dist-packages (from pdpbox) (0.0.post1)\n",
            "Requirement already satisfied: kiwisolver>=1.0.1 in /usr/local/lib/python3.8/dist-packages (from matplotlib==3.1.1->pdpbox) (1.4.4)\n",
            "Requirement already satisfied: python-dateutil>=2.1 in /usr/local/lib/python3.8/dist-packages (from matplotlib==3.1.1->pdpbox) (2.8.2)\n",
            "Requirement already satisfied: cycler>=0.10 in /usr/local/lib/python3.8/dist-packages (from matplotlib==3.1.1->pdpbox) (0.11.0)\n",
            "Requirement already satisfied: pyparsing!=2.0.4,!=2.1.2,!=2.1.6,>=2.0.1 in /usr/local/lib/python3.8/dist-packages (from matplotlib==3.1.1->pdpbox) (3.0.9)\n",
            "Requirement already satisfied: pytz>=2017.3 in /usr/local/lib/python3.8/dist-packages (from pandas->pdpbox) (2022.7.1)\n",
            "Requirement already satisfied: six>=1.5 in /usr/local/lib/python3.8/dist-packages (from python-dateutil>=2.1->matplotlib==3.1.1->pdpbox) (1.15.0)\n"
          ]
        }
      ]
    },
    {
      "cell_type": "code",
      "source": [
        "df.columns"
      ],
      "metadata": {
        "colab": {
          "base_uri": "https://localhost:8080/"
        },
        "id": "eUQaOFv5xNip",
        "outputId": "5860d13e-5627-4562-9198-9e23c5735ab1"
      },
      "execution_count": null,
      "outputs": [
        {
          "output_type": "execute_result",
          "data": {
            "text/plain": [
              "Index(['item', 'url', 'artist', 'discount_price', 'price', 'is_sold_out', 'ds',\n",
              "       'vendor', 'is_autograph', 'avg_review_value', 'number_of_questions',\n",
              "       'number_of_reviews', 'presale', 'is_event', 'category', 'year', 'month',\n",
              "       'type', 'count', 'artist_isna'],\n",
              "      dtype='object')"
            ]
          },
          "metadata": {},
          "execution_count": 6
        }
      ]
    },
    {
      "cell_type": "code",
      "source": [
        "train, test = train_test_split(df)\n",
        "train, val = train_test_split(train)\n",
        "\n",
        "target = 'is_sold_out'\n",
        "features = ['artist', 'discount_price', 'price',\n",
        "       'vendor', 'is_autograph', 'presale', 'is_event', 'category','type', 'count', 'artist_isna']\n",
        "\n",
        "X_train, y_train = train[features], train[target]\n",
        "X_test, y_test = test[features], test[target]\n",
        "X_val,y_val = val[features], val[target]"
      ],
      "metadata": {
        "id": "DEKMa412wwNs"
      },
      "execution_count": null,
      "outputs": []
    },
    {
      "cell_type": "code",
      "source": [
        "y_train = y_train.replace([True,False],['1','0']).astype('int')\n",
        "y_test = y_test.replace([True,False],['1','0']).astype('int')\n",
        "y_val = y_val.replace([True,False],['1','0']).astype('int')"
      ],
      "metadata": {
        "id": "pmoKl3ELxgpS"
      },
      "execution_count": null,
      "outputs": []
    },
    {
      "cell_type": "code",
      "source": [
        "# 기준모델\n",
        "from sklearn.metrics import accuracy_score\n",
        "\n",
        "base = y_train.mode()[0]\n",
        "baseline = len(y_train) * [base]\n",
        "baseline_acc = accuracy_score(y_train, baseline)\n",
        "print(f'기준모델의 정확도는 {baseline_acc.round(3)} 입니다')"
      ],
      "metadata": {
        "colab": {
          "base_uri": "https://localhost:8080/"
        },
        "id": "8G_q6OnnxkO_",
        "outputId": "ba59fb0e-2a32-415b-84ce-69668735ebbe"
      },
      "execution_count": null,
      "outputs": [
        {
          "output_type": "stream",
          "name": "stdout",
          "text": [
            "기준모델의 정확도는 0.745 입니다\n"
          ]
        }
      ]
    },
    {
      "cell_type": "code",
      "source": [
        "X_train"
      ],
      "metadata": {
        "colab": {
          "base_uri": "https://localhost:8080/",
          "height": 424
        },
        "id": "O9S1msMDxnSs",
        "outputId": "c17ec275-55bd-428d-eec8-2ad098825786"
      },
      "execution_count": null,
      "outputs": [
        {
          "output_type": "execute_result",
          "data": {
            "text/plain": [
              "           artist  discount_price  price          vendor  is_autograph  \\\n",
              "14420    D-CRUNCH             NaN  18.99  kpopstoreinusa           NaN   \n",
              "13870        DAY6             NaN  19.99  kpopstoreinusa           NaN   \n",
              "11536   SEVENTEEN             NaN   3.99      musicplaza           0.0   \n",
              "10272         하성운             NaN   5.99      musicplaza           0.0   \n",
              "14951         조명섭             NaN  18.99  kpopstoreinusa           NaN   \n",
              "...           ...             ...    ...             ...           ...   \n",
              "9368          NaN             NaN   5.99      musicplaza           0.0   \n",
              "2881    NCT DREAM           30.49  33.88      kpopalbums           0.0   \n",
              "18699    TEEN TOP             NaN  17.99  kpopstoreinusa           NaN   \n",
              "18027        BTOB             NaN  55.99  kpopstoreinusa           1.0   \n",
              "3257   브라운 아이드 걸스           11.89  13.99      kpopalbums           0.0   \n",
              "\n",
              "       presale  is_event category        type  count  artist_isna  \n",
              "14420      0.0     False    ALBUM         NaN     70        False  \n",
              "13870      0.0     False    ALBUM        Mini    204        False  \n",
              "11536      NaN     False    ALBUM         NaN    311        False  \n",
              "10272      NaN     False    ALBUM        Mini     43        False  \n",
              "14951      0.0     False      ect         NaN      9        False  \n",
              "...        ...       ...      ...         ...    ...          ...  \n",
              "9368       NaN     False    ALBUM        Mini      0         True  \n",
              "2881       NaN     False      ect  PHOTO BOOK    309        False  \n",
              "18699      0.0     False    ALBUM         NaN     99        False  \n",
              "18027      0.0     False    ALBUM         NaN    142        False  \n",
              "3257       NaN     False    ALBUM         NaN      8        False  \n",
              "\n",
              "[12474 rows x 11 columns]"
            ],
            "text/html": [
              "\n",
              "  <div id=\"df-5a710d7b-e981-4571-a6c2-902e96e6fe4c\">\n",
              "    <div class=\"colab-df-container\">\n",
              "      <div>\n",
              "<style scoped>\n",
              "    .dataframe tbody tr th:only-of-type {\n",
              "        vertical-align: middle;\n",
              "    }\n",
              "\n",
              "    .dataframe tbody tr th {\n",
              "        vertical-align: top;\n",
              "    }\n",
              "\n",
              "    .dataframe thead th {\n",
              "        text-align: right;\n",
              "    }\n",
              "</style>\n",
              "<table border=\"1\" class=\"dataframe\">\n",
              "  <thead>\n",
              "    <tr style=\"text-align: right;\">\n",
              "      <th></th>\n",
              "      <th>artist</th>\n",
              "      <th>discount_price</th>\n",
              "      <th>price</th>\n",
              "      <th>vendor</th>\n",
              "      <th>is_autograph</th>\n",
              "      <th>presale</th>\n",
              "      <th>is_event</th>\n",
              "      <th>category</th>\n",
              "      <th>type</th>\n",
              "      <th>count</th>\n",
              "      <th>artist_isna</th>\n",
              "    </tr>\n",
              "  </thead>\n",
              "  <tbody>\n",
              "    <tr>\n",
              "      <th>14420</th>\n",
              "      <td>D-CRUNCH</td>\n",
              "      <td>NaN</td>\n",
              "      <td>18.99</td>\n",
              "      <td>kpopstoreinusa</td>\n",
              "      <td>NaN</td>\n",
              "      <td>0.0</td>\n",
              "      <td>False</td>\n",
              "      <td>ALBUM</td>\n",
              "      <td>NaN</td>\n",
              "      <td>70</td>\n",
              "      <td>False</td>\n",
              "    </tr>\n",
              "    <tr>\n",
              "      <th>13870</th>\n",
              "      <td>DAY6</td>\n",
              "      <td>NaN</td>\n",
              "      <td>19.99</td>\n",
              "      <td>kpopstoreinusa</td>\n",
              "      <td>NaN</td>\n",
              "      <td>0.0</td>\n",
              "      <td>False</td>\n",
              "      <td>ALBUM</td>\n",
              "      <td>Mini</td>\n",
              "      <td>204</td>\n",
              "      <td>False</td>\n",
              "    </tr>\n",
              "    <tr>\n",
              "      <th>11536</th>\n",
              "      <td>SEVENTEEN</td>\n",
              "      <td>NaN</td>\n",
              "      <td>3.99</td>\n",
              "      <td>musicplaza</td>\n",
              "      <td>0.0</td>\n",
              "      <td>NaN</td>\n",
              "      <td>False</td>\n",
              "      <td>ALBUM</td>\n",
              "      <td>NaN</td>\n",
              "      <td>311</td>\n",
              "      <td>False</td>\n",
              "    </tr>\n",
              "    <tr>\n",
              "      <th>10272</th>\n",
              "      <td>하성운</td>\n",
              "      <td>NaN</td>\n",
              "      <td>5.99</td>\n",
              "      <td>musicplaza</td>\n",
              "      <td>0.0</td>\n",
              "      <td>NaN</td>\n",
              "      <td>False</td>\n",
              "      <td>ALBUM</td>\n",
              "      <td>Mini</td>\n",
              "      <td>43</td>\n",
              "      <td>False</td>\n",
              "    </tr>\n",
              "    <tr>\n",
              "      <th>14951</th>\n",
              "      <td>조명섭</td>\n",
              "      <td>NaN</td>\n",
              "      <td>18.99</td>\n",
              "      <td>kpopstoreinusa</td>\n",
              "      <td>NaN</td>\n",
              "      <td>0.0</td>\n",
              "      <td>False</td>\n",
              "      <td>ect</td>\n",
              "      <td>NaN</td>\n",
              "      <td>9</td>\n",
              "      <td>False</td>\n",
              "    </tr>\n",
              "    <tr>\n",
              "      <th>...</th>\n",
              "      <td>...</td>\n",
              "      <td>...</td>\n",
              "      <td>...</td>\n",
              "      <td>...</td>\n",
              "      <td>...</td>\n",
              "      <td>...</td>\n",
              "      <td>...</td>\n",
              "      <td>...</td>\n",
              "      <td>...</td>\n",
              "      <td>...</td>\n",
              "      <td>...</td>\n",
              "    </tr>\n",
              "    <tr>\n",
              "      <th>9368</th>\n",
              "      <td>NaN</td>\n",
              "      <td>NaN</td>\n",
              "      <td>5.99</td>\n",
              "      <td>musicplaza</td>\n",
              "      <td>0.0</td>\n",
              "      <td>NaN</td>\n",
              "      <td>False</td>\n",
              "      <td>ALBUM</td>\n",
              "      <td>Mini</td>\n",
              "      <td>0</td>\n",
              "      <td>True</td>\n",
              "    </tr>\n",
              "    <tr>\n",
              "      <th>2881</th>\n",
              "      <td>NCT DREAM</td>\n",
              "      <td>30.49</td>\n",
              "      <td>33.88</td>\n",
              "      <td>kpopalbums</td>\n",
              "      <td>0.0</td>\n",
              "      <td>NaN</td>\n",
              "      <td>False</td>\n",
              "      <td>ect</td>\n",
              "      <td>PHOTO BOOK</td>\n",
              "      <td>309</td>\n",
              "      <td>False</td>\n",
              "    </tr>\n",
              "    <tr>\n",
              "      <th>18699</th>\n",
              "      <td>TEEN TOP</td>\n",
              "      <td>NaN</td>\n",
              "      <td>17.99</td>\n",
              "      <td>kpopstoreinusa</td>\n",
              "      <td>NaN</td>\n",
              "      <td>0.0</td>\n",
              "      <td>False</td>\n",
              "      <td>ALBUM</td>\n",
              "      <td>NaN</td>\n",
              "      <td>99</td>\n",
              "      <td>False</td>\n",
              "    </tr>\n",
              "    <tr>\n",
              "      <th>18027</th>\n",
              "      <td>BTOB</td>\n",
              "      <td>NaN</td>\n",
              "      <td>55.99</td>\n",
              "      <td>kpopstoreinusa</td>\n",
              "      <td>1.0</td>\n",
              "      <td>0.0</td>\n",
              "      <td>False</td>\n",
              "      <td>ALBUM</td>\n",
              "      <td>NaN</td>\n",
              "      <td>142</td>\n",
              "      <td>False</td>\n",
              "    </tr>\n",
              "    <tr>\n",
              "      <th>3257</th>\n",
              "      <td>브라운 아이드 걸스</td>\n",
              "      <td>11.89</td>\n",
              "      <td>13.99</td>\n",
              "      <td>kpopalbums</td>\n",
              "      <td>0.0</td>\n",
              "      <td>NaN</td>\n",
              "      <td>False</td>\n",
              "      <td>ALBUM</td>\n",
              "      <td>NaN</td>\n",
              "      <td>8</td>\n",
              "      <td>False</td>\n",
              "    </tr>\n",
              "  </tbody>\n",
              "</table>\n",
              "<p>12474 rows × 11 columns</p>\n",
              "</div>\n",
              "      <button class=\"colab-df-convert\" onclick=\"convertToInteractive('df-5a710d7b-e981-4571-a6c2-902e96e6fe4c')\"\n",
              "              title=\"Convert this dataframe to an interactive table.\"\n",
              "              style=\"display:none;\">\n",
              "        \n",
              "  <svg xmlns=\"http://www.w3.org/2000/svg\" height=\"24px\"viewBox=\"0 0 24 24\"\n",
              "       width=\"24px\">\n",
              "    <path d=\"M0 0h24v24H0V0z\" fill=\"none\"/>\n",
              "    <path d=\"M18.56 5.44l.94 2.06.94-2.06 2.06-.94-2.06-.94-.94-2.06-.94 2.06-2.06.94zm-11 1L8.5 8.5l.94-2.06 2.06-.94-2.06-.94L8.5 2.5l-.94 2.06-2.06.94zm10 10l.94 2.06.94-2.06 2.06-.94-2.06-.94-.94-2.06-.94 2.06-2.06.94z\"/><path d=\"M17.41 7.96l-1.37-1.37c-.4-.4-.92-.59-1.43-.59-.52 0-1.04.2-1.43.59L10.3 9.45l-7.72 7.72c-.78.78-.78 2.05 0 2.83L4 21.41c.39.39.9.59 1.41.59.51 0 1.02-.2 1.41-.59l7.78-7.78 2.81-2.81c.8-.78.8-2.07 0-2.86zM5.41 20L4 18.59l7.72-7.72 1.47 1.35L5.41 20z\"/>\n",
              "  </svg>\n",
              "      </button>\n",
              "      \n",
              "  <style>\n",
              "    .colab-df-container {\n",
              "      display:flex;\n",
              "      flex-wrap:wrap;\n",
              "      gap: 12px;\n",
              "    }\n",
              "\n",
              "    .colab-df-convert {\n",
              "      background-color: #E8F0FE;\n",
              "      border: none;\n",
              "      border-radius: 50%;\n",
              "      cursor: pointer;\n",
              "      display: none;\n",
              "      fill: #1967D2;\n",
              "      height: 32px;\n",
              "      padding: 0 0 0 0;\n",
              "      width: 32px;\n",
              "    }\n",
              "\n",
              "    .colab-df-convert:hover {\n",
              "      background-color: #E2EBFA;\n",
              "      box-shadow: 0px 1px 2px rgba(60, 64, 67, 0.3), 0px 1px 3px 1px rgba(60, 64, 67, 0.15);\n",
              "      fill: #174EA6;\n",
              "    }\n",
              "\n",
              "    [theme=dark] .colab-df-convert {\n",
              "      background-color: #3B4455;\n",
              "      fill: #D2E3FC;\n",
              "    }\n",
              "\n",
              "    [theme=dark] .colab-df-convert:hover {\n",
              "      background-color: #434B5C;\n",
              "      box-shadow: 0px 1px 3px 1px rgba(0, 0, 0, 0.15);\n",
              "      filter: drop-shadow(0px 1px 2px rgba(0, 0, 0, 0.3));\n",
              "      fill: #FFFFFF;\n",
              "    }\n",
              "  </style>\n",
              "\n",
              "      <script>\n",
              "        const buttonEl =\n",
              "          document.querySelector('#df-5a710d7b-e981-4571-a6c2-902e96e6fe4c button.colab-df-convert');\n",
              "        buttonEl.style.display =\n",
              "          google.colab.kernel.accessAllowed ? 'block' : 'none';\n",
              "\n",
              "        async function convertToInteractive(key) {\n",
              "          const element = document.querySelector('#df-5a710d7b-e981-4571-a6c2-902e96e6fe4c');\n",
              "          const dataTable =\n",
              "            await google.colab.kernel.invokeFunction('convertToInteractive',\n",
              "                                                     [key], {});\n",
              "          if (!dataTable) return;\n",
              "\n",
              "          const docLinkHtml = 'Like what you see? Visit the ' +\n",
              "            '<a target=\"_blank\" href=https://colab.research.google.com/notebooks/data_table.ipynb>data table notebook</a>'\n",
              "            + ' to learn more about interactive tables.';\n",
              "          element.innerHTML = '';\n",
              "          dataTable['output_type'] = 'display_data';\n",
              "          await google.colab.output.renderOutput(dataTable, element);\n",
              "          const docLink = document.createElement('div');\n",
              "          docLink.innerHTML = docLinkHtml;\n",
              "          element.appendChild(docLink);\n",
              "        }\n",
              "      </script>\n",
              "    </div>\n",
              "  </div>\n",
              "  "
            ]
          },
          "metadata": {},
          "execution_count": 10
        }
      ]
    },
    {
      "cell_type": "code",
      "source": [
        "df['is_sold_out'].value_counts()"
      ],
      "metadata": {
        "colab": {
          "base_uri": "https://localhost:8080/"
        },
        "id": "oPQD_-13z0PX",
        "outputId": "d0ed2b50-23fc-4261-8fb0-0c3bb7082b84"
      },
      "execution_count": null,
      "outputs": [
        {
          "output_type": "execute_result",
          "data": {
            "text/plain": [
              "False    16483\n",
              "True      5695\n",
              "Name: is_sold_out, dtype: int64"
            ]
          },
          "metadata": {},
          "execution_count": 11
        }
      ]
    },
    {
      "cell_type": "code",
      "source": [
        "df['is_sold_out'].value_counts().plot(kind = 'bar')"
      ],
      "metadata": {
        "colab": {
          "base_uri": "https://localhost:8080/",
          "height": 298
        },
        "id": "tFhFgOds0H1W",
        "outputId": "fb5b9402-2aa4-41cb-f17c-00d05e20aca3"
      },
      "execution_count": null,
      "outputs": [
        {
          "output_type": "execute_result",
          "data": {
            "text/plain": [
              "<matplotlib.axes._subplots.AxesSubplot at 0x7fb953bc3ca0>"
            ]
          },
          "metadata": {},
          "execution_count": 12
        },
        {
          "output_type": "display_data",
          "data": {
            "text/plain": [
              "<Figure size 432x288 with 1 Axes>"
            ],
            "image/png": "[encoded data removed]"
          },
          "metadata": {
            "needs_background": "light"
          }
        }
      ]
    },
    {
      "cell_type": "code",
      "source": [
        "from category_encoders import OrdinalEncoder\n",
        "from sklearn.impute import SimpleImputer\n",
        "from xgboost import XGBClassifier\n",
        "from sklearn.pipeline import make_pipeline\n",
        "from sklearn.metrics import r2_score, mean_absolute_error, mean_squared_error, \\\n",
        "  accuracy_score, plot_confusion_matrix, confusion_matrix, classification_report, recall_score, \\\n",
        "  precision_score, f1_score, roc_auc_score, roc_curve\n",
        "\n",
        "\n",
        "# sp_weight = y_train.value_counts()[0] / y_train.value_counts()[1]\n",
        "\n",
        "# pipe = make_pipeline(\n",
        "#     OrdinalEncoder(),\n",
        "#     XGBClassifier(\n",
        "#         objective=\"binary:logistic\",\n",
        "#         n_jobs=-1,\n",
        "#         eval_metric= \"error\",\n",
        "#         random_state=42,\n",
        "#         n_estimators= 300,\n",
        "#         max_depth=6,\n",
        "#         colsample_bytree = 1.0,\n",
        "#         learning_rate = 0.8,\n",
        "#         min_child_weight =1,\n",
        "#         scale_pos_weight= (y_train == 0).sum() / (y_train == 1).sum()\n",
        "#     ),\n",
        "# )\n",
        "\n",
        "# pipe.fit(X_train, y_train)"
      ],
      "metadata": {
        "id": "kO8i0Gp10osR"
      },
      "execution_count": null,
      "outputs": []
    },
    {
      "cell_type": "code",
      "source": [
        "# params = {\n",
        "#     \"xgbclassifier__n_estimators\": [100,150],\n",
        "#     # \"xgbclassifier__max_depth\": [16,17,18],\n",
        "#     \"xgbclassifier__min_child_weight\": [1],\n",
        "#     \"xgbclassifier__colsample_bytree\": [1.0],\n",
        "#     \"xgbclassifier__learning_rate\": [0.8,0.9,1.0]\n",
        "# }"
      ],
      "metadata": {
        "id": "OnJsu1ec6eR2"
      },
      "execution_count": null,
      "outputs": []
    },
    {
      "cell_type": "code",
      "source": [
        "# # from sklearn.model_selection import GridSearchCV\n",
        "\n",
        "# grid_search = GridSearchCV(pipe, param_grid=params, scoring=\"f1\", cv=5, verbose=3)\n",
        "# grid_search.fit(X_train, y_train)"
      ],
      "metadata": {
        "id": "VCMQqRvI6moS"
      },
      "execution_count": null,
      "outputs": []
    },
    {
      "cell_type": "code",
      "source": [
        "# print(\"최적 하이퍼파라미터: \", grid_search.best_params_)\n",
        "# print(\"최적 f1 score: \", grid_search.best_score_)\n"
      ],
      "metadata": {
        "colab": {
          "base_uri": "https://localhost:8080/",
          "height": 184
        },
        "id": "aK4KiqNT73P0",
        "outputId": "e3f44751-0808-4b85-cbf9-0acf99e63ccb"
      },
      "execution_count": null,
      "outputs": [
        {
          "output_type": "error",
          "ename": "NameError",
          "evalue": "ignored",
          "traceback": [
            "\u001b[0;31m---------------------------------------------------------------------------\u001b[0m",
            "\u001b[0;31mNameError\u001b[0m                                 Traceback (most recent call last)",
            "\u001b[0;32m<ipython-input-16-7d538db9b6ac>\u001b[0m in \u001b[0;36m<module>\u001b[0;34m\u001b[0m\n\u001b[0;32m----> 1\u001b[0;31m \u001b[0mprint\u001b[0m\u001b[0;34m(\u001b[0m\u001b[0;34m\"최적 하이퍼파라미터: \"\u001b[0m\u001b[0;34m,\u001b[0m \u001b[0mgrid_search\u001b[0m\u001b[0;34m.\u001b[0m\u001b[0mbest_params_\u001b[0m\u001b[0;34m)\u001b[0m\u001b[0;34m\u001b[0m\u001b[0;34m\u001b[0m\u001b[0m\n\u001b[0m\u001b[1;32m      2\u001b[0m \u001b[0mprint\u001b[0m\u001b[0;34m(\u001b[0m\u001b[0;34m\"최적 f1 score: \"\u001b[0m\u001b[0;34m,\u001b[0m \u001b[0mgrid_search\u001b[0m\u001b[0;34m.\u001b[0m\u001b[0mbest_score_\u001b[0m\u001b[0;34m)\u001b[0m\u001b[0;34m\u001b[0m\u001b[0;34m\u001b[0m\u001b[0m\n",
            "\u001b[0;31mNameError\u001b[0m: name 'grid_search' is not defined"
          ]
        }
      ]
    },
    {
      "cell_type": "code",
      "source": [
        "# from sklearn.model_selection import cross_val_score\n",
        "# cv = cross_val_score(estimator= pipe,X= X_train, y= y_train, cv=10, n_jobs=-1,scoring = 'f1')\n",
        "# round(cv.mean(),3)"
      ],
      "metadata": {
        "id": "ShkBBllYBESu"
      },
      "execution_count": null,
      "outputs": []
    },
    {
      "cell_type": "code",
      "source": [
        "# from sklearn.model_selection import cross_val_score\n",
        "# cv = cross_val_score(estimator= pipe,X= X_val, y= y_val, cv=10, n_jobs=-1,scoring = 'f1')\n",
        "# round(cv.mean(),3)"
      ],
      "metadata": {
        "id": "EtAbKoN2FS2o"
      },
      "execution_count": null,
      "outputs": []
    },
    {
      "cell_type": "code",
      "source": [
        "# train_xg = classification_report(y_train, pipe.predict(X_train), output_dict=True)\n",
        "# test_xg = classification_report(y_val, pipe.predict(X_val), output_dict=True)\n",
        "\n",
        "# print(f'훈련 정확도  : {train_xg[\"accuracy\"]:.4f}')\n",
        "# print(f'검증 정확도  : {test_xg[\"accuracy\"]:.4f}')\n",
        "# print(f'훈련 f1      : {train_xg[\"1\"][\"f1-score\"]:.4f}')\n",
        "# print(f'검증 f1      : {test_xg[\"1\"][\"f1-score\"]:.4f}')\n"
      ],
      "metadata": {
        "id": "pgG0CWnK6piC"
      },
      "execution_count": null,
      "outputs": []
    },
    {
      "cell_type": "code",
      "source": [
        "# import matplotlib.pyplot as plt\n",
        "\n",
        "# feature_importances = list(\n",
        "#     zip(X_train.columns, pipe.named_steps[\"xgbclassifier\"].feature_importances_)\n",
        "# )\n",
        "# feature_importances = sorted(feature_importances, key=lambda x: x[1], reverse=True)\n",
        "\n",
        "# plt.figure(figsize=(10, 10), dpi=120)\n",
        "# plt.barh(*list(zip(*feature_importances[::-1])))\n",
        "# plt.axvline(0.015, color=\"red\", linewidth=0.5)"
      ],
      "metadata": {
        "id": "SuUFPxY17PBi"
      },
      "execution_count": null,
      "outputs": []
    },
    {
      "cell_type": "code",
      "source": [
        "encoder = OrdinalEncoder()\n",
        "X_train_encode = encoder.fit_transform(X_train)\n",
        "X_val_encode = encoder.transform(X_val)\n",
        "X_test_encode = encoder.transform(X_test)\n",
        "\n",
        "imputer = SimpleImputer(strategy = \"constant\", fill_value = 100)\n",
        "X_train_imput = imputer.fit_transform(X_train_encode)\n",
        "X_val_imput = imputer.transform(X_val_encode)\n",
        "X_test_imput = imputer.transform(X_test_encode)\n"
      ],
      "metadata": {
        "id": "vEIl5lXhBuKt"
      },
      "execution_count": null,
      "outputs": []
    },
    {
      "cell_type": "code",
      "source": [
        "# X_val_imput = pd.DataFrame(columns = X_val.columns, data = X_val_imput )"
      ],
      "metadata": {
        "id": "ciIk0jC1HVjn"
      },
      "execution_count": null,
      "outputs": []
    },
    {
      "cell_type": "code",
      "source": [
        "\n",
        "# from imblearn.combine import SMOTEENN\n",
        "# X_train_sampled, y_train_sampled = SMOTEENN(random_state=42).fit_resample(\n",
        "#     X_train_imput, y_train\n",
        "# )"
      ],
      "metadata": {
        "id": "kKltH4fJ6wBG"
      },
      "execution_count": null,
      "outputs": []
    },
    {
      "cell_type": "code",
      "source": [
        "!pip3 install xgboost==1.7.2"
      ],
      "metadata": {
        "colab": {
          "base_uri": "https://localhost:8080/"
        },
        "id": "HrWCPd2iNDe4",
        "outputId": "04925546-b24e-4907-9a30-fee7f8352919"
      },
      "execution_count": null,
      "outputs": [
        {
          "output_type": "stream",
          "name": "stdout",
          "text": [
            "Looking in indexes: https://pypi.org/simple, https://us-python.pkg.dev/colab-wheels/public/simple/\n",
            "Requirement already satisfied: xgboost==1.7.2 in /usr/local/lib/python3.8/dist-packages (1.7.2)\n",
            "Requirement already satisfied: numpy in /usr/local/lib/python3.8/dist-packages (from xgboost==1.7.2) (1.21.6)\n",
            "Requirement already satisfied: scipy in /usr/local/lib/python3.8/dist-packages (from xgboost==1.7.2) (1.7.3)\n"
          ]
        }
      ]
    },
    {
      "cell_type": "code",
      "source": [
        "\n",
        "import warnings\n",
        "warnings.filterwarnings(action='ignore')\n",
        "     "
      ],
      "metadata": {
        "id": "0irYeGZ1Nx50"
      },
      "execution_count": null,
      "outputs": []
    },
    {
      "cell_type": "code",
      "source": [
        "encoder = OrdinalEncoder()\n",
        "X_train_encoded = encoder.fit_transform(X_train)\n",
        "X_val_encoded = encoder.transform(X_val)\n"
      ],
      "metadata": {
        "id": "L5veioMlIXvl"
      },
      "execution_count": null,
      "outputs": []
    },
    {
      "cell_type": "code",
      "source": [
        "model = XGBClassifier(\n",
        "        objective=\"binary:logistic\",\n",
        "        n_jobs=-1,\n",
        "        eval_metric= \"auc\",\n",
        "        random_state=42,\n",
        "        n_estimators= 300,\n",
        "        max_depth=7,\n",
        "        colsample_bytree = 1.0,\n",
        "        learning_rate = 0.8,\n",
        "        min_child_weight =1,\n",
        "        scale_pos_weight= (y_train == 0).sum() / (y_train == 1).sum()\n",
        "    )"
      ],
      "metadata": {
        "id": "-7mRIJ0LJQP0"
      },
      "execution_count": null,
      "outputs": []
    },
    {
      "cell_type": "code",
      "source": [
        "watchlist = [(X_train_encoded, y_train), (X_val_encoded, y_val)]\n",
        "\n",
        "model.fit(\n",
        "    X_train_encoded,\n",
        "    y_train,\n",
        "    eval_set = watchlist,\n",
        "    early_stopping_rounds=100, \n",
        ")\n"
      ],
      "metadata": {
        "colab": {
          "base_uri": "https://localhost:8080/"
        },
        "id": "hAMScT_tJn2a",
        "outputId": "b4948eb6-dbd8-45cd-fce1-1768299dd09e"
      },
      "execution_count": null,
      "outputs": [
        {
          "output_type": "stream",
          "name": "stdout",
          "text": [
            "[0]\tvalidation_0-auc:0.84342\tvalidation_1-auc:0.83323\n",
            "[1]\tvalidation_0-auc:0.86195\tvalidation_1-auc:0.84934\n",
            "[2]\tvalidation_0-auc:0.87017\tvalidation_1-auc:0.85485\n",
            "[3]\tvalidation_0-auc:0.88205\tvalidation_1-auc:0.86358\n",
            "[4]\tvalidation_0-auc:0.89757\tvalidation_1-auc:0.87782\n",
            "[5]\tvalidation_0-auc:0.90671\tvalidation_1-auc:0.88354\n",
            "[6]\tvalidation_0-auc:0.90900\tvalidation_1-auc:0.88636\n",
            "[7]\tvalidation_0-auc:0.91362\tvalidation_1-auc:0.88849\n",
            "[8]\tvalidation_0-auc:0.91989\tvalidation_1-auc:0.89160\n",
            "[9]\tvalidation_0-auc:0.92305\tvalidation_1-auc:0.89316\n",
            "[10]\tvalidation_0-auc:0.92691\tvalidation_1-auc:0.89412\n",
            "[11]\tvalidation_0-auc:0.93373\tvalidation_1-auc:0.89647\n",
            "[12]\tvalidation_0-auc:0.94084\tvalidation_1-auc:0.90078\n",
            "[13]\tvalidation_0-auc:0.94153\tvalidation_1-auc:0.90156\n",
            "[14]\tvalidation_0-auc:0.94592\tvalidation_1-auc:0.90532\n",
            "[15]\tvalidation_0-auc:0.95309\tvalidation_1-auc:0.90976\n",
            "[16]\tvalidation_0-auc:0.95544\tvalidation_1-auc:0.91192\n",
            "[17]\tvalidation_0-auc:0.95828\tvalidation_1-auc:0.91406\n",
            "[18]\tvalidation_0-auc:0.95969\tvalidation_1-auc:0.91524\n",
            "[19]\tvalidation_0-auc:0.96402\tvalidation_1-auc:0.91776\n",
            "[20]\tvalidation_0-auc:0.96442\tvalidation_1-auc:0.91749\n",
            "[21]\tvalidation_0-auc:0.96573\tvalidation_1-auc:0.91751\n",
            "[22]\tvalidation_0-auc:0.96804\tvalidation_1-auc:0.92034\n",
            "[23]\tvalidation_0-auc:0.97013\tvalidation_1-auc:0.92133\n",
            "[24]\tvalidation_0-auc:0.97155\tvalidation_1-auc:0.92304\n",
            "[25]\tvalidation_0-auc:0.97171\tvalidation_1-auc:0.92313\n",
            "[26]\tvalidation_0-auc:0.97362\tvalidation_1-auc:0.92561\n",
            "[27]\tvalidation_0-auc:0.97413\tvalidation_1-auc:0.92606\n",
            "[28]\tvalidation_0-auc:0.97562\tvalidation_1-auc:0.92828\n",
            "[29]\tvalidation_0-auc:0.97691\tvalidation_1-auc:0.93015\n",
            "[30]\tvalidation_0-auc:0.97914\tvalidation_1-auc:0.93208\n",
            "[31]\tvalidation_0-auc:0.98009\tvalidation_1-auc:0.93237\n",
            "[32]\tvalidation_0-auc:0.98031\tvalidation_1-auc:0.93277\n",
            "[33]\tvalidation_0-auc:0.98085\tvalidation_1-auc:0.93388\n",
            "[34]\tvalidation_0-auc:0.98104\tvalidation_1-auc:0.93510\n",
            "[35]\tvalidation_0-auc:0.98239\tvalidation_1-auc:0.93544\n",
            "[36]\tvalidation_0-auc:0.98331\tvalidation_1-auc:0.93633\n",
            "[37]\tvalidation_0-auc:0.98348\tvalidation_1-auc:0.93665\n",
            "[38]\tvalidation_0-auc:0.98403\tvalidation_1-auc:0.93665\n",
            "[39]\tvalidation_0-auc:0.98483\tvalidation_1-auc:0.93820\n",
            "[40]\tvalidation_0-auc:0.98529\tvalidation_1-auc:0.93866\n",
            "[41]\tvalidation_0-auc:0.98547\tvalidation_1-auc:0.93919\n",
            "[42]\tvalidation_0-auc:0.98599\tvalidation_1-auc:0.94034\n",
            "[43]\tvalidation_0-auc:0.98618\tvalidation_1-auc:0.94049\n",
            "[44]\tvalidation_0-auc:0.98651\tvalidation_1-auc:0.94147\n",
            "[45]\tvalidation_0-auc:0.98684\tvalidation_1-auc:0.94191\n",
            "[46]\tvalidation_0-auc:0.98765\tvalidation_1-auc:0.94198\n",
            "[47]\tvalidation_0-auc:0.98798\tvalidation_1-auc:0.94209\n",
            "[48]\tvalidation_0-auc:0.98827\tvalidation_1-auc:0.94241\n",
            "[49]\tvalidation_0-auc:0.98838\tvalidation_1-auc:0.94306\n",
            "[50]\tvalidation_0-auc:0.98919\tvalidation_1-auc:0.94409\n",
            "[51]\tvalidation_0-auc:0.98920\tvalidation_1-auc:0.94403\n",
            "[52]\tvalidation_0-auc:0.98944\tvalidation_1-auc:0.94491\n",
            "[53]\tvalidation_0-auc:0.98961\tvalidation_1-auc:0.94529\n",
            "[54]\tvalidation_0-auc:0.98962\tvalidation_1-auc:0.94538\n",
            "[55]\tvalidation_0-auc:0.98983\tvalidation_1-auc:0.94580\n",
            "[56]\tvalidation_0-auc:0.99001\tvalidation_1-auc:0.94608\n",
            "[57]\tvalidation_0-auc:0.99006\tvalidation_1-auc:0.94607\n",
            "[58]\tvalidation_0-auc:0.99013\tvalidation_1-auc:0.94599\n",
            "[59]\tvalidation_0-auc:0.99028\tvalidation_1-auc:0.94581\n",
            "[60]\tvalidation_0-auc:0.99051\tvalidation_1-auc:0.94595\n",
            "[61]\tvalidation_0-auc:0.99068\tvalidation_1-auc:0.94591\n",
            "[62]\tvalidation_0-auc:0.99084\tvalidation_1-auc:0.94642\n",
            "[63]\tvalidation_0-auc:0.99099\tvalidation_1-auc:0.94649\n",
            "[64]\tvalidation_0-auc:0.99104\tvalidation_1-auc:0.94637\n",
            "[65]\tvalidation_0-auc:0.99113\tvalidation_1-auc:0.94645\n",
            "[66]\tvalidation_0-auc:0.99136\tvalidation_1-auc:0.94642\n",
            "[67]\tvalidation_0-auc:0.99137\tvalidation_1-auc:0.94655\n",
            "[68]\tvalidation_0-auc:0.99165\tvalidation_1-auc:0.94703\n",
            "[69]\tvalidation_0-auc:0.99192\tvalidation_1-auc:0.94713\n",
            "[70]\tvalidation_0-auc:0.99205\tvalidation_1-auc:0.94736\n",
            "[71]\tvalidation_0-auc:0.99208\tvalidation_1-auc:0.94726\n",
            "[72]\tvalidation_0-auc:0.99220\tvalidation_1-auc:0.94729\n",
            "[73]\tvalidation_0-auc:0.99221\tvalidation_1-auc:0.94741\n",
            "[74]\tvalidation_0-auc:0.99235\tvalidation_1-auc:0.94761\n",
            "[75]\tvalidation_0-auc:0.99244\tvalidation_1-auc:0.94760\n",
            "[76]\tvalidation_0-auc:0.99248\tvalidation_1-auc:0.94777\n",
            "[77]\tvalidation_0-auc:0.99259\tvalidation_1-auc:0.94775\n",
            "[78]\tvalidation_0-auc:0.99268\tvalidation_1-auc:0.94817\n",
            "[79]\tvalidation_0-auc:0.99272\tvalidation_1-auc:0.94819\n",
            "[80]\tvalidation_0-auc:0.99274\tvalidation_1-auc:0.94819\n",
            "[81]\tvalidation_0-auc:0.99274\tvalidation_1-auc:0.94821\n",
            "[82]\tvalidation_0-auc:0.99282\tvalidation_1-auc:0.94814\n",
            "[83]\tvalidation_0-auc:0.99285\tvalidation_1-auc:0.94825\n",
            "[84]\tvalidation_0-auc:0.99299\tvalidation_1-auc:0.94864\n",
            "[85]\tvalidation_0-auc:0.99309\tvalidation_1-auc:0.94812\n",
            "[86]\tvalidation_0-auc:0.99313\tvalidation_1-auc:0.94832\n",
            "[87]\tvalidation_0-auc:0.99315\tvalidation_1-auc:0.94848\n",
            "[88]\tvalidation_0-auc:0.99322\tvalidation_1-auc:0.94852\n",
            "[89]\tvalidation_0-auc:0.99324\tvalidation_1-auc:0.94850\n",
            "[90]\tvalidation_0-auc:0.99332\tvalidation_1-auc:0.94832\n",
            "[91]\tvalidation_0-auc:0.99341\tvalidation_1-auc:0.94820\n",
            "[92]\tvalidation_0-auc:0.99345\tvalidation_1-auc:0.94826\n",
            "[93]\tvalidation_0-auc:0.99354\tvalidation_1-auc:0.94831\n",
            "[94]\tvalidation_0-auc:0.99362\tvalidation_1-auc:0.94862\n",
            "[95]\tvalidation_0-auc:0.99362\tvalidation_1-auc:0.94867\n",
            "[96]\tvalidation_0-auc:0.99368\tvalidation_1-auc:0.94857\n",
            "[97]\tvalidation_0-auc:0.99372\tvalidation_1-auc:0.94873\n",
            "[98]\tvalidation_0-auc:0.99373\tvalidation_1-auc:0.94886\n",
            "[99]\tvalidation_0-auc:0.99376\tvalidation_1-auc:0.94906\n",
            "[100]\tvalidation_0-auc:0.99378\tvalidation_1-auc:0.94912\n",
            "[101]\tvalidation_0-auc:0.99379\tvalidation_1-auc:0.94931\n",
            "[102]\tvalidation_0-auc:0.99380\tvalidation_1-auc:0.94921\n",
            "[103]\tvalidation_0-auc:0.99381\tvalidation_1-auc:0.94925\n",
            "[104]\tvalidation_0-auc:0.99381\tvalidation_1-auc:0.94927\n",
            "[105]\tvalidation_0-auc:0.99381\tvalidation_1-auc:0.94931\n",
            "[106]\tvalidation_0-auc:0.99394\tvalidation_1-auc:0.94903\n",
            "[107]\tvalidation_0-auc:0.99405\tvalidation_1-auc:0.94945\n",
            "[108]\tvalidation_0-auc:0.99418\tvalidation_1-auc:0.94981\n",
            "[109]\tvalidation_0-auc:0.99420\tvalidation_1-auc:0.94988\n",
            "[110]\tvalidation_0-auc:0.99421\tvalidation_1-auc:0.94968\n",
            "[111]\tvalidation_0-auc:0.99422\tvalidation_1-auc:0.94959\n",
            "[112]\tvalidation_0-auc:0.99423\tvalidation_1-auc:0.94953\n",
            "[113]\tvalidation_0-auc:0.99426\tvalidation_1-auc:0.94964\n",
            "[114]\tvalidation_0-auc:0.99430\tvalidation_1-auc:0.94960\n",
            "[115]\tvalidation_0-auc:0.99431\tvalidation_1-auc:0.94961\n",
            "[116]\tvalidation_0-auc:0.99432\tvalidation_1-auc:0.94948\n",
            "[117]\tvalidation_0-auc:0.99434\tvalidation_1-auc:0.94943\n",
            "[118]\tvalidation_0-auc:0.99434\tvalidation_1-auc:0.94949\n",
            "[119]\tvalidation_0-auc:0.99440\tvalidation_1-auc:0.94948\n",
            "[120]\tvalidation_0-auc:0.99444\tvalidation_1-auc:0.94971\n",
            "[121]\tvalidation_0-auc:0.99445\tvalidation_1-auc:0.94991\n",
            "[122]\tvalidation_0-auc:0.99447\tvalidation_1-auc:0.95010\n",
            "[123]\tvalidation_0-auc:0.99447\tvalidation_1-auc:0.95014\n",
            "[124]\tvalidation_0-auc:0.99449\tvalidation_1-auc:0.95009\n",
            "[125]\tvalidation_0-auc:0.99450\tvalidation_1-auc:0.95011\n",
            "[126]\tvalidation_0-auc:0.99451\tvalidation_1-auc:0.94994\n",
            "[127]\tvalidation_0-auc:0.99455\tvalidation_1-auc:0.94993\n",
            "[128]\tvalidation_0-auc:0.99458\tvalidation_1-auc:0.94983\n",
            "[129]\tvalidation_0-auc:0.99460\tvalidation_1-auc:0.94982\n",
            "[130]\tvalidation_0-auc:0.99460\tvalidation_1-auc:0.94968\n",
            "[131]\tvalidation_0-auc:0.99461\tvalidation_1-auc:0.94966\n",
            "[132]\tvalidation_0-auc:0.99462\tvalidation_1-auc:0.94964\n",
            "[133]\tvalidation_0-auc:0.99469\tvalidation_1-auc:0.94978\n",
            "[134]\tvalidation_0-auc:0.99470\tvalidation_1-auc:0.94984\n",
            "[135]\tvalidation_0-auc:0.99474\tvalidation_1-auc:0.94971\n",
            "[136]\tvalidation_0-auc:0.99477\tvalidation_1-auc:0.94979\n",
            "[137]\tvalidation_0-auc:0.99478\tvalidation_1-auc:0.94985\n",
            "[138]\tvalidation_0-auc:0.99478\tvalidation_1-auc:0.94992\n",
            "[139]\tvalidation_0-auc:0.99481\tvalidation_1-auc:0.95000\n",
            "[140]\tvalidation_0-auc:0.99485\tvalidation_1-auc:0.95005\n",
            "[141]\tvalidation_0-auc:0.99486\tvalidation_1-auc:0.94999\n",
            "[142]\tvalidation_0-auc:0.99486\tvalidation_1-auc:0.95002\n",
            "[143]\tvalidation_0-auc:0.99491\tvalidation_1-auc:0.94995\n",
            "[144]\tvalidation_0-auc:0.99492\tvalidation_1-auc:0.94995\n",
            "[145]\tvalidation_0-auc:0.99494\tvalidation_1-auc:0.94980\n",
            "[146]\tvalidation_0-auc:0.99494\tvalidation_1-auc:0.94993\n",
            "[147]\tvalidation_0-auc:0.99495\tvalidation_1-auc:0.94989\n",
            "[148]\tvalidation_0-auc:0.99497\tvalidation_1-auc:0.94977\n",
            "[149]\tvalidation_0-auc:0.99500\tvalidation_1-auc:0.94968\n",
            "[150]\tvalidation_0-auc:0.99501\tvalidation_1-auc:0.94981\n",
            "[151]\tvalidation_0-auc:0.99505\tvalidation_1-auc:0.94979\n",
            "[152]\tvalidation_0-auc:0.99505\tvalidation_1-auc:0.94978\n",
            "[153]\tvalidation_0-auc:0.99505\tvalidation_1-auc:0.94973\n",
            "[154]\tvalidation_0-auc:0.99507\tvalidation_1-auc:0.94975\n",
            "[155]\tvalidation_0-auc:0.99506\tvalidation_1-auc:0.94975\n",
            "[156]\tvalidation_0-auc:0.99508\tvalidation_1-auc:0.94963\n",
            "[157]\tvalidation_0-auc:0.99509\tvalidation_1-auc:0.94979\n",
            "[158]\tvalidation_0-auc:0.99509\tvalidation_1-auc:0.94977\n",
            "[159]\tvalidation_0-auc:0.99509\tvalidation_1-auc:0.94977\n",
            "[160]\tvalidation_0-auc:0.99512\tvalidation_1-auc:0.94974\n",
            "[161]\tvalidation_0-auc:0.99512\tvalidation_1-auc:0.94981\n",
            "[162]\tvalidation_0-auc:0.99513\tvalidation_1-auc:0.94997\n",
            "[163]\tvalidation_0-auc:0.99515\tvalidation_1-auc:0.95010\n",
            "[164]\tvalidation_0-auc:0.99516\tvalidation_1-auc:0.95026\n",
            "[165]\tvalidation_0-auc:0.99516\tvalidation_1-auc:0.95023\n",
            "[166]\tvalidation_0-auc:0.99517\tvalidation_1-auc:0.95028\n",
            "[167]\tvalidation_0-auc:0.99516\tvalidation_1-auc:0.95023\n",
            "[168]\tvalidation_0-auc:0.99516\tvalidation_1-auc:0.95024\n",
            "[169]\tvalidation_0-auc:0.99517\tvalidation_1-auc:0.95023\n",
            "[170]\tvalidation_0-auc:0.99517\tvalidation_1-auc:0.95021\n",
            "[171]\tvalidation_0-auc:0.99518\tvalidation_1-auc:0.95028\n",
            "[172]\tvalidation_0-auc:0.99518\tvalidation_1-auc:0.95026\n",
            "[173]\tvalidation_0-auc:0.99519\tvalidation_1-auc:0.95023\n",
            "[174]\tvalidation_0-auc:0.99521\tvalidation_1-auc:0.95031\n",
            "[175]\tvalidation_0-auc:0.99520\tvalidation_1-auc:0.95034\n",
            "[176]\tvalidation_0-auc:0.99521\tvalidation_1-auc:0.95040\n",
            "[177]\tvalidation_0-auc:0.99521\tvalidation_1-auc:0.95041\n",
            "[178]\tvalidation_0-auc:0.99521\tvalidation_1-auc:0.95040\n",
            "[179]\tvalidation_0-auc:0.99521\tvalidation_1-auc:0.95043\n",
            "[180]\tvalidation_0-auc:0.99522\tvalidation_1-auc:0.95042\n",
            "[181]\tvalidation_0-auc:0.99522\tvalidation_1-auc:0.95044\n",
            "[182]\tvalidation_0-auc:0.99522\tvalidation_1-auc:0.95046\n",
            "[183]\tvalidation_0-auc:0.99523\tvalidation_1-auc:0.95045\n",
            "[184]\tvalidation_0-auc:0.99523\tvalidation_1-auc:0.95044\n",
            "[185]\tvalidation_0-auc:0.99524\tvalidation_1-auc:0.95046\n",
            "[186]\tvalidation_0-auc:0.99524\tvalidation_1-auc:0.95036\n",
            "[187]\tvalidation_0-auc:0.99524\tvalidation_1-auc:0.95036\n",
            "[188]\tvalidation_0-auc:0.99525\tvalidation_1-auc:0.95040\n",
            "[189]\tvalidation_0-auc:0.99526\tvalidation_1-auc:0.95043\n",
            "[190]\tvalidation_0-auc:0.99528\tvalidation_1-auc:0.95035\n",
            "[191]\tvalidation_0-auc:0.99528\tvalidation_1-auc:0.95030\n",
            "[192]\tvalidation_0-auc:0.99528\tvalidation_1-auc:0.95032\n",
            "[193]\tvalidation_0-auc:0.99529\tvalidation_1-auc:0.95037\n",
            "[194]\tvalidation_0-auc:0.99529\tvalidation_1-auc:0.95052\n",
            "[195]\tvalidation_0-auc:0.99532\tvalidation_1-auc:0.95039\n",
            "[196]\tvalidation_0-auc:0.99532\tvalidation_1-auc:0.95039\n",
            "[197]\tvalidation_0-auc:0.99533\tvalidation_1-auc:0.95042\n",
            "[198]\tvalidation_0-auc:0.99533\tvalidation_1-auc:0.95046\n",
            "[199]\tvalidation_0-auc:0.99533\tvalidation_1-auc:0.95053\n",
            "[200]\tvalidation_0-auc:0.99534\tvalidation_1-auc:0.95054\n",
            "[201]\tvalidation_0-auc:0.99534\tvalidation_1-auc:0.95053\n",
            "[202]\tvalidation_0-auc:0.99535\tvalidation_1-auc:0.95050\n",
            "[203]\tvalidation_0-auc:0.99535\tvalidation_1-auc:0.95051\n",
            "[204]\tvalidation_0-auc:0.99536\tvalidation_1-auc:0.95053\n",
            "[205]\tvalidation_0-auc:0.99536\tvalidation_1-auc:0.95045\n",
            "[206]\tvalidation_0-auc:0.99536\tvalidation_1-auc:0.95045\n",
            "[207]\tvalidation_0-auc:0.99536\tvalidation_1-auc:0.95042\n",
            "[208]\tvalidation_0-auc:0.99537\tvalidation_1-auc:0.95043\n",
            "[209]\tvalidation_0-auc:0.99537\tvalidation_1-auc:0.95047\n",
            "[210]\tvalidation_0-auc:0.99537\tvalidation_1-auc:0.95043\n",
            "[211]\tvalidation_0-auc:0.99539\tvalidation_1-auc:0.95048\n",
            "[212]\tvalidation_0-auc:0.99539\tvalidation_1-auc:0.95053\n",
            "[213]\tvalidation_0-auc:0.99539\tvalidation_1-auc:0.95055\n",
            "[214]\tvalidation_0-auc:0.99540\tvalidation_1-auc:0.95056\n",
            "[215]\tvalidation_0-auc:0.99541\tvalidation_1-auc:0.95044\n",
            "[216]\tvalidation_0-auc:0.99541\tvalidation_1-auc:0.95043\n",
            "[217]\tvalidation_0-auc:0.99541\tvalidation_1-auc:0.95048\n",
            "[218]\tvalidation_0-auc:0.99541\tvalidation_1-auc:0.95051\n",
            "[219]\tvalidation_0-auc:0.99541\tvalidation_1-auc:0.95046\n",
            "[220]\tvalidation_0-auc:0.99541\tvalidation_1-auc:0.95053\n",
            "[221]\tvalidation_0-auc:0.99542\tvalidation_1-auc:0.95047\n",
            "[222]\tvalidation_0-auc:0.99542\tvalidation_1-auc:0.95051\n",
            "[223]\tvalidation_0-auc:0.99543\tvalidation_1-auc:0.95050\n",
            "[224]\tvalidation_0-auc:0.99543\tvalidation_1-auc:0.95046\n",
            "[225]\tvalidation_0-auc:0.99543\tvalidation_1-auc:0.95051\n",
            "[226]\tvalidation_0-auc:0.99543\tvalidation_1-auc:0.95053\n",
            "[227]\tvalidation_0-auc:0.99543\tvalidation_1-auc:0.95064\n",
            "[228]\tvalidation_0-auc:0.99544\tvalidation_1-auc:0.95058\n",
            "[229]\tvalidation_0-auc:0.99544\tvalidation_1-auc:0.95062\n",
            "[230]\tvalidation_0-auc:0.99544\tvalidation_1-auc:0.95054\n",
            "[231]\tvalidation_0-auc:0.99545\tvalidation_1-auc:0.95068\n",
            "[232]\tvalidation_0-auc:0.99545\tvalidation_1-auc:0.95067\n",
            "[233]\tvalidation_0-auc:0.99545\tvalidation_1-auc:0.95057\n",
            "[234]\tvalidation_0-auc:0.99545\tvalidation_1-auc:0.95061\n",
            "[235]\tvalidation_0-auc:0.99546\tvalidation_1-auc:0.95063\n",
            "[236]\tvalidation_0-auc:0.99547\tvalidation_1-auc:0.95055\n",
            "[237]\tvalidation_0-auc:0.99547\tvalidation_1-auc:0.95055\n",
            "[238]\tvalidation_0-auc:0.99547\tvalidation_1-auc:0.95068\n",
            "[239]\tvalidation_0-auc:0.99547\tvalidation_1-auc:0.95062\n",
            "[240]\tvalidation_0-auc:0.99548\tvalidation_1-auc:0.95059\n",
            "[241]\tvalidation_0-auc:0.99548\tvalidation_1-auc:0.95064\n",
            "[242]\tvalidation_0-auc:0.99548\tvalidation_1-auc:0.95066\n",
            "[243]\tvalidation_0-auc:0.99548\tvalidation_1-auc:0.95065\n",
            "[244]\tvalidation_0-auc:0.99548\tvalidation_1-auc:0.95064\n",
            "[245]\tvalidation_0-auc:0.99548\tvalidation_1-auc:0.95067\n",
            "[246]\tvalidation_0-auc:0.99548\tvalidation_1-auc:0.95072\n",
            "[247]\tvalidation_0-auc:0.99548\tvalidation_1-auc:0.95073\n",
            "[248]\tvalidation_0-auc:0.99548\tvalidation_1-auc:0.95075\n",
            "[249]\tvalidation_0-auc:0.99549\tvalidation_1-auc:0.95072\n",
            "[250]\tvalidation_0-auc:0.99549\tvalidation_1-auc:0.95063\n",
            "[251]\tvalidation_0-auc:0.99550\tvalidation_1-auc:0.95071\n",
            "[252]\tvalidation_0-auc:0.99550\tvalidation_1-auc:0.95062\n",
            "[253]\tvalidation_0-auc:0.99550\tvalidation_1-auc:0.95054\n",
            "[254]\tvalidation_0-auc:0.99550\tvalidation_1-auc:0.95047\n",
            "[255]\tvalidation_0-auc:0.99551\tvalidation_1-auc:0.95046\n",
            "[256]\tvalidation_0-auc:0.99551\tvalidation_1-auc:0.95045\n",
            "[257]\tvalidation_0-auc:0.99551\tvalidation_1-auc:0.95048\n",
            "[258]\tvalidation_0-auc:0.99551\tvalidation_1-auc:0.95046\n",
            "[259]\tvalidation_0-auc:0.99552\tvalidation_1-auc:0.95045\n",
            "[260]\tvalidation_0-auc:0.99552\tvalidation_1-auc:0.95039\n",
            "[261]\tvalidation_0-auc:0.99552\tvalidation_1-auc:0.95040\n",
            "[262]\tvalidation_0-auc:0.99553\tvalidation_1-auc:0.95051\n",
            "[263]\tvalidation_0-auc:0.99553\tvalidation_1-auc:0.95058\n",
            "[264]\tvalidation_0-auc:0.99553\tvalidation_1-auc:0.95062\n",
            "[265]\tvalidation_0-auc:0.99553\tvalidation_1-auc:0.95066\n",
            "[266]\tvalidation_0-auc:0.99553\tvalidation_1-auc:0.95060\n",
            "[267]\tvalidation_0-auc:0.99553\tvalidation_1-auc:0.95057\n",
            "[268]\tvalidation_0-auc:0.99553\tvalidation_1-auc:0.95063\n",
            "[269]\tvalidation_0-auc:0.99553\tvalidation_1-auc:0.95066\n",
            "[270]\tvalidation_0-auc:0.99554\tvalidation_1-auc:0.95065\n",
            "[271]\tvalidation_0-auc:0.99554\tvalidation_1-auc:0.95065\n",
            "[272]\tvalidation_0-auc:0.99554\tvalidation_1-auc:0.95058\n",
            "[273]\tvalidation_0-auc:0.99554\tvalidation_1-auc:0.95067\n",
            "[274]\tvalidation_0-auc:0.99554\tvalidation_1-auc:0.95059\n",
            "[275]\tvalidation_0-auc:0.99555\tvalidation_1-auc:0.95056\n",
            "[276]\tvalidation_0-auc:0.99555\tvalidation_1-auc:0.95056\n",
            "[277]\tvalidation_0-auc:0.99555\tvalidation_1-auc:0.95056\n",
            "[278]\tvalidation_0-auc:0.99555\tvalidation_1-auc:0.95057\n",
            "[279]\tvalidation_0-auc:0.99555\tvalidation_1-auc:0.95046\n",
            "[280]\tvalidation_0-auc:0.99556\tvalidation_1-auc:0.95044\n",
            "[281]\tvalidation_0-auc:0.99556\tvalidation_1-auc:0.95042\n",
            "[282]\tvalidation_0-auc:0.99556\tvalidation_1-auc:0.95040\n",
            "[283]\tvalidation_0-auc:0.99556\tvalidation_1-auc:0.95039\n",
            "[284]\tvalidation_0-auc:0.99556\tvalidation_1-auc:0.95042\n",
            "[285]\tvalidation_0-auc:0.99556\tvalidation_1-auc:0.95039\n",
            "[286]\tvalidation_0-auc:0.99556\tvalidation_1-auc:0.95043\n",
            "[287]\tvalidation_0-auc:0.99556\tvalidation_1-auc:0.95043\n",
            "[288]\tvalidation_0-auc:0.99556\tvalidation_1-auc:0.95042\n",
            "[289]\tvalidation_0-auc:0.99557\tvalidation_1-auc:0.95039\n",
            "[290]\tvalidation_0-auc:0.99557\tvalidation_1-auc:0.95037\n",
            "[291]\tvalidation_0-auc:0.99557\tvalidation_1-auc:0.95027\n",
            "[292]\tvalidation_0-auc:0.99557\tvalidation_1-auc:0.95027\n",
            "[293]\tvalidation_0-auc:0.99557\tvalidation_1-auc:0.95026\n",
            "[294]\tvalidation_0-auc:0.99557\tvalidation_1-auc:0.95029\n",
            "[295]\tvalidation_0-auc:0.99557\tvalidation_1-auc:0.95033\n",
            "[296]\tvalidation_0-auc:0.99557\tvalidation_1-auc:0.95038\n",
            "[297]\tvalidation_0-auc:0.99557\tvalidation_1-auc:0.95045\n",
            "[298]\tvalidation_0-auc:0.99557\tvalidation_1-auc:0.95045\n",
            "[299]\tvalidation_0-auc:0.99557\tvalidation_1-auc:0.95040\n"
          ]
        },
        {
          "output_type": "execute_result",
          "data": {
            "text/plain": [
              "XGBClassifier(base_score=0.5, booster='gbtree', callbacks=None,\n",
              "              colsample_bylevel=1, colsample_bynode=1, colsample_bytree=1.0,\n",
              "              early_stopping_rounds=None, enable_categorical=False,\n",
              "              eval_metric='auc', feature_types=None, gamma=0, gpu_id=-1,\n",
              "              grow_policy='depthwise', importance_type=None,\n",
              "              interaction_constraints='', learning_rate=0.8, max_bin=256,\n",
              "              max_cat_threshold=64, max_cat_to_onehot=4, max_delta_step=0,\n",
              "              max_depth=7, max_leaves=0, min_child_weight=1, missing=nan,\n",
              "              monotone_constraints='()', n_estimators=300, n_jobs=-1,\n",
              "              num_parallel_tree=1, predictor='auto', random_state=42, ...)"
            ]
          },
          "metadata": {},
          "execution_count": 24
        }
      ]
    },
    {
      "cell_type": "code",
      "source": [
        "model.best_iteration"
      ],
      "metadata": {
        "id": "iKjoGG3kMGXM"
      },
      "execution_count": null,
      "outputs": []
    },
    {
      "cell_type": "code",
      "source": [
        "import matplotlib.pyplot as plt\n",
        "%matplotlib inline\n",
        "\n",
        "results = model.evals_result()\n",
        "train_error = results[\"validation_0\"][\"auc\"]\n",
        "val_error = results[\"validation_1\"][\"auc\"]\n",
        "\n",
        "plt.plot(train_error, label=\"Train\")\n",
        "plt.plot(val_error, label=\"Validation\")\n",
        "plt.ylabel(\"ROC-AUC\")\n",
        "plt.xlabel(\"Model Complexity (n_estimators)\")\n",
        "plt.legend()"
      ],
      "metadata": {
        "colab": {
          "base_uri": "https://localhost:8080/",
          "height": 295
        },
        "id": "4-EPPITBO7Bq",
        "outputId": "b24ca9a7-95ef-4972-a03c-5ad33308ef38"
      },
      "execution_count": null,
      "outputs": [
        {
          "output_type": "execute_result",
          "data": {
            "text/plain": [
              "<matplotlib.legend.Legend at 0x7fb9418f2190>"
            ]
          },
          "metadata": {},
          "execution_count": 36
        },
        {
          "output_type": "display_data",
          "data": {
            "text/plain": [
              "<Figure size 432x288 with 1 Axes>"
            ],
            "image/png": "[encoded data removed]"
          },
          "metadata": {
            "needs_background": "light"
          }
        }
      ]
    },
    {
      "cell_type": "code",
      "source": [
        "model.predict(X_val_encoded).sum()"
      ],
      "metadata": {
        "colab": {
          "base_uri": "https://localhost:8080/"
        },
        "id": "l3hqpKbePHkg",
        "outputId": "4064ae50-d588-4b39-ed55-1c8a2ebc39b9"
      },
      "execution_count": null,
      "outputs": [
        {
          "output_type": "execute_result",
          "data": {
            "text/plain": [
              "1218"
            ]
          },
          "metadata": {},
          "execution_count": 37
        }
      ]
    },
    {
      "cell_type": "code",
      "source": [
        "\n",
        "from sklearn.metrics import confusion_matrix, ConfusionMatrixDisplay\n",
        "import seaborn as sns\n",
        "\n",
        "def plot_confusion_matrix(model, X_val_encoded, y_val):\n",
        "        y_pred = model.predict(X_val_encoded)\n",
        "        cm = confusion_matrix(y_val, y_pred)\n",
        "        disp = ConfusionMatrixDisplay(cm)\n",
        "        disp.plot(cmap='Blues')\n",
        "        \n",
        "        plt.show()\n",
        "     "
      ],
      "metadata": {
        "id": "zScuy_g7BssU"
      },
      "execution_count": null,
      "outputs": []
    },
    {
      "cell_type": "code",
      "source": [
        "plot_confusion_matrix(model, X_val_encoded, y_val)"
      ],
      "metadata": {
        "colab": {
          "base_uri": "https://localhost:8080/",
          "height": 277
        },
        "id": "iuq9fZRBIHK8",
        "outputId": "53e9e3e0-4432-48d6-cd9f-9df22fbeb441"
      },
      "execution_count": null,
      "outputs": [
        {
          "output_type": "display_data",
          "data": {
            "text/plain": [
              "<Figure size 432x288 with 2 Axes>"
            ],
            "image/png": "[encoded data removed]"
          },
          "metadata": {
            "needs_background": "light"
          }
        }
      ]
    },
    {
      "cell_type": "code",
      "source": [
        "from sklearn.metrics import classification_report\n",
        "\n",
        "print(\"검증 정확도\", model.score(X_train_encoded, y_train))\n",
        "\n",
        "print(\n",
        "    classification_report(\n",
        "        y_train, model.predict(X_train_encoded)\n",
        "    )\n",
        ")"
      ],
      "metadata": {
        "colab": {
          "base_uri": "https://localhost:8080/"
        },
        "id": "H7lZWUnTIQMD",
        "outputId": "d6fc61ad-8ecc-4754-a277-f7c84250a592"
      },
      "execution_count": null,
      "outputs": [
        {
          "output_type": "stream",
          "name": "stdout",
          "text": [
            "검증 정확도 0.9554272887606221\n",
            "              precision    recall  f1-score   support\n",
            "\n",
            "           0       0.99      0.95      0.97      9299\n",
            "           1       0.87      0.97      0.92      3175\n",
            "\n",
            "    accuracy                           0.96     12474\n",
            "   macro avg       0.93      0.96      0.94     12474\n",
            "weighted avg       0.96      0.96      0.96     12474\n",
            "\n"
          ]
        }
      ]
    },
    {
      "cell_type": "code",
      "source": [
        "train_xg = classification_report(y_train, model.predict(X_train_encoded), output_dict=True)\n",
        "test_xg = classification_report(y_val, model.predict(X_val_encoded), output_dict=True)\n",
        "\n",
        "print(f'훈련 정확도  : {train_xg[\"accuracy\"]:.4f}')\n",
        "print(f'검증 정확도  : {test_xg[\"accuracy\"]:.4f}')\n",
        "print(f'훈련 f1      : {train_xg[\"1\"][\"f1-score\"]:.4f}')\n",
        "print(f'검증 f1      : {test_xg[\"1\"][\"f1-score\"]:.4f}')"
      ],
      "metadata": {
        "colab": {
          "base_uri": "https://localhost:8080/"
        },
        "id": "1NpCGDwhR6hO",
        "outputId": "53f5f041-59d6-4144-a08a-569498eed657"
      },
      "execution_count": null,
      "outputs": [
        {
          "output_type": "stream",
          "name": "stdout",
          "text": [
            "훈련 정확도  : 0.9554\n",
            "검증 정확도  : 0.8932\n",
            "훈련 f1      : 0.9171\n",
            "검증 f1      : 0.8066\n"
          ]
        }
      ]
    },
    {
      "cell_type": "code",
      "source": [
        "X_test_encoded = encoder.transform(X_test)"
      ],
      "metadata": {
        "id": "L1KSe3bOVn7Y"
      },
      "execution_count": null,
      "outputs": []
    },
    {
      "cell_type": "code",
      "source": [
        "from sklearn.metrics import classification_report\n",
        "\n",
        "print(\"테스트 정확도\", model.score(X_test_encoded, y_test))\n",
        "\n",
        "print(\n",
        "    classification_report(\n",
        "        y_test, model.predict(X_test_encoded)\n",
        "    )\n",
        ")"
      ],
      "metadata": {
        "colab": {
          "base_uri": "https://localhost:8080/",
          "height": 236
        },
        "id": "cnth2_RPSS6q",
        "outputId": "df9eb7bb-d02c-48a1-c6e6-6fe4f5cd7f0d"
      },
      "execution_count": null,
      "outputs": [
        {
          "output_type": "error",
          "ename": "NameError",
          "evalue": "ignored",
          "traceback": [
            "\u001b[0;31m---------------------------------------------------------------------------\u001b[0m",
            "\u001b[0;31mNameError\u001b[0m                                 Traceback (most recent call last)",
            "\u001b[0;32m<ipython-input-42-f6b7b9fa9a8b>\u001b[0m in \u001b[0;36m<module>\u001b[0;34m\u001b[0m\n\u001b[1;32m      1\u001b[0m \u001b[0;32mfrom\u001b[0m \u001b[0msklearn\u001b[0m\u001b[0;34m.\u001b[0m\u001b[0mmetrics\u001b[0m \u001b[0;32mimport\u001b[0m \u001b[0mclassification_report\u001b[0m\u001b[0;34m\u001b[0m\u001b[0;34m\u001b[0m\u001b[0m\n\u001b[1;32m      2\u001b[0m \u001b[0;34m\u001b[0m\u001b[0m\n\u001b[0;32m----> 3\u001b[0;31m \u001b[0mprint\u001b[0m\u001b[0;34m(\u001b[0m\u001b[0;34m\"테스트 정확도\"\u001b[0m\u001b[0;34m,\u001b[0m \u001b[0mmodel\u001b[0m\u001b[0;34m.\u001b[0m\u001b[0mscore\u001b[0m\u001b[0;34m(\u001b[0m\u001b[0mX_test_encoded\u001b[0m\u001b[0;34m,\u001b[0m \u001b[0my_test\u001b[0m\u001b[0;34m)\u001b[0m\u001b[0;34m)\u001b[0m\u001b[0;34m\u001b[0m\u001b[0;34m\u001b[0m\u001b[0m\n\u001b[0m\u001b[1;32m      4\u001b[0m \u001b[0;34m\u001b[0m\u001b[0m\n\u001b[1;32m      5\u001b[0m print(\n",
            "\u001b[0;31mNameError\u001b[0m: name 'X_test_encoded' is not defined"
          ]
        }
      ]
    },
    {
      "cell_type": "code",
      "source": [
        "# cw = (y_train == 0).sum() / (y_train == 1).sum()\n",
        "\n",
        "model = RandomForestClassifier(\n",
        "        n_jobs=-1,\n",
        "        random_state=42,\n",
        "        n_estimators= 500,\n",
        "        max_depth=25,\n",
        "        min_samples_leaf = 1,\n",
        "        min_samples_split = 2,\n",
        "        max_features=5,\n",
        "        class_weight= \"balanced\"\n",
        "    )\n",
        "\n",
        "model.fit(X_train_imput, y_train)"
      ],
      "metadata": {
        "colab": {
          "base_uri": "https://localhost:8080/"
        },
        "id": "9VFESIbHYuvv",
        "outputId": "14bb89a1-e359-443a-8671-fad248649557"
      },
      "execution_count": null,
      "outputs": [
        {
          "output_type": "execute_result",
          "data": {
            "text/plain": [
              "RandomForestClassifier(class_weight='balanced', max_depth=25, max_features=5,\n",
              "                       n_estimators=500, n_jobs=-1, random_state=42)"
            ]
          },
          "metadata": {},
          "execution_count": 47
        }
      ]
    },
    {
      "cell_type": "code",
      "source": [
        "train_xg = classification_report(y_train, model.predict(X_train_imput), output_dict=True)\n",
        "test_xg = classification_report(y_val, model.predict(X_val_imput), output_dict=True)\n",
        "\n",
        "print(f'훈련 정확도  : {train_xg[\"accuracy\"]:.4f}')\n",
        "print(f'검증 정확도  : {test_xg[\"accuracy\"]:.4f}')\n",
        "print(f'훈련 f1      : {train_xg[\"1\"][\"f1-score\"]:.4f}')\n",
        "print(f'검증 f1      : {test_xg[\"1\"][\"f1-score\"]:.4f}')"
      ],
      "metadata": {
        "colab": {
          "base_uri": "https://localhost:8080/"
        },
        "id": "VoyO-eythig3",
        "outputId": "922a4dc1-0e2f-456d-8fc8-7fc9d786bc26"
      },
      "execution_count": null,
      "outputs": [
        {
          "output_type": "stream",
          "name": "stdout",
          "text": [
            "훈련 정확도  : 0.9600\n",
            "검증 정확도  : 0.8978\n",
            "훈련 f1      : 0.9241\n",
            "검증 f1      : 0.8095\n"
          ]
        }
      ]
    },
    {
      "cell_type": "code",
      "source": [
        "from sklearn.model_selection import cross_val_score\n",
        "cv = cross_val_score(estimator= model,X= X_val_encode, y= y_val, cv=10, n_jobs=-1,scoring = 'f1')\n",
        "round(cv.mean(),3)"
      ],
      "metadata": {
        "colab": {
          "base_uri": "https://localhost:8080/"
        },
        "id": "1dhrao9_vrRP",
        "outputId": "d8fb0ed0-add8-47a2-fbeb-d894bb216411"
      },
      "execution_count": null,
      "outputs": [
        {
          "output_type": "execute_result",
          "data": {
            "text/plain": [
              "nan"
            ]
          },
          "metadata": {},
          "execution_count": 49
        }
      ]
    },
    {
      "cell_type": "code",
      "source": [
        "from sklearn.metrics import classification_report\n",
        "\n",
        "print(\"테스트 정확도\", model.score(X_train_imput, y_train))\n",
        "\n",
        "print(\n",
        "    classification_report(y_train, model.predict(X_train_imput)\n",
        "    )\n",
        ")"
      ],
      "metadata": {
        "colab": {
          "base_uri": "https://localhost:8080/"
        },
        "id": "D30WC81ivECF",
        "outputId": "2043db54-636e-4f89-a114-9193cd10caa0"
      },
      "execution_count": null,
      "outputs": [
        {
          "output_type": "stream",
          "name": "stdout",
          "text": [
            "테스트 정확도 0.9599967933301267\n",
            "              precision    recall  f1-score   support\n",
            "\n",
            "           0       0.99      0.96      0.97      9299\n",
            "           1       0.89      0.96      0.92      3175\n",
            "\n",
            "    accuracy                           0.96     12474\n",
            "   macro avg       0.94      0.96      0.95     12474\n",
            "weighted avg       0.96      0.96      0.96     12474\n",
            "\n"
          ]
        }
      ]
    },
    {
      "cell_type": "code",
      "source": [
        "\n",
        "from sklearn.model_selection import GridSearchCV\n",
        "\n",
        "params = { 'n_estimators' : [260,280,300],\n",
        "           'max_depth' : [23,24],\n",
        "           'min_samples_leaf' : [1],\n",
        "           'min_samples_split' : [2,3]\n",
        "            }\n"
      ],
      "metadata": {
        "id": "CegpnyFpZM_c"
      },
      "execution_count": null,
      "outputs": []
    },
    {
      "cell_type": "code",
      "source": [
        "# RandomForestClassifier 객체 생성 후 GridSearchCV 수행\n",
        "grid_cv = GridSearchCV(model, param_grid = params, cv = 5, n_jobs = -1)\n",
        "grid_cv.fit(X_train_encode, y_train)\n",
        "\n",
        "print('최적 하이퍼 파라미터: ', grid_cv.best_params_)\n",
        "print('최고 예측 정확도: {:.4f}'.format(grid_cv.best_score_))"
      ],
      "metadata": {
        "id": "5SgFbW8LaZdH"
      },
      "execution_count": null,
      "outputs": []
    },
    {
      "cell_type": "code",
      "source": [
        "plot_confusion_matrix(model, X_val_encode, y_val)"
      ],
      "metadata": {
        "id": "SPTKimGQwjL4"
      },
      "execution_count": null,
      "outputs": []
    },
    {
      "cell_type": "code",
      "source": [
        "\n",
        "import eli5\n",
        "from eli5.sklearn import PermutationImportance\n",
        "\n",
        "# permuter 정의\n",
        "permuter = PermutationImportance(\n",
        "    pipe.named_steps[\"xgbclassifier\"],  # model\n",
        "    scoring=\"f1\",  # metric\n",
        "    n_iter=5,  # 다른 random seed를 사용하여 10번 반복\n",
        "    random_state=42,\n",
        ")\n",
        "\n",
        "# 스코어를 다시 계산합니다.\n",
        "permuter.fit(X_val_encoded, y_val)"
      ],
      "metadata": {
        "id": "n_-B8GUIV4Na"
      },
      "execution_count": null,
      "outputs": []
    },
    {
      "cell_type": "code",
      "source": [
        "train_Before = classification_report(y_train, model.predict(X_train_encoded), output_dict=True)\n",
        "val_Before = classification_report(y_val, model.predict(X_val_encoded), output_dict=True)\n",
        "\n",
        "# Importance Table\n",
        "step_model = model\n",
        "step_enc = encoder\n",
        "encoded_columns = X_val_encoded.columns\n",
        "importances_table = pd.DataFrame({'Importances':step_model.feature_importances_}, index=encoded_columns).sort_values(by='Importances', ascending=False)"
      ],
      "metadata": {
        "id": "ilGvU0P3xRfY"
      },
      "execution_count": null,
      "outputs": []
    },
    {
      "cell_type": "code",
      "source": [
        "# Importances Graph\n",
        "fig, ax = plt.subplots(figsize = (12,8))\n",
        "fig.suptitle('Importances by Features', fontsize=28, fontweight = 'bold')\n",
        "\n",
        "importances_top = importances_table[:30] # feature 갯수 선택\n",
        "\n",
        "sns.barplot(data = importances_top, x = 'Importances', y = importances_top.index)\n",
        "plt.axvline(0.015, color=\"red\", linewidth=1.5)\n",
        "\n",
        "plt.xlabel('Importances', fontsize=14)\n",
        "plt.ylabel('Features', fontsize=14)\n",
        "plt.show()\n"
      ],
      "metadata": {
        "id": "Vjlj1uWSx7gp"
      },
      "execution_count": null,
      "outputs": []
    },
    {
      "cell_type": "code",
      "source": [
        "from sklearn.metrics import classification_report\n",
        "from sklearn.metrics import plot_confusion_matrix\n",
        "from sklearn.metrics import roc_curve, roc_auc_score\n",
        "import matplotlib.pyplot as plt\n",
        "\n",
        "\n",
        "print(classification_report(y_test, model.predict(X_test_encoded)))\n",
        "\n",
        "plot_confusion_matrix(pipe, X_test_encoded, y_test, cmap=plt.cm.Reds)\n",
        "plt.title(f\"Confusion Matrix (n = {len(y_test)})\", fontsize=15)\n",
        "plt.show()\n",
        "\n",
        "y_pred_proba = model.predict_proba(X_test_encoded)[:, 1]\n",
        "print(\"AUC:\", roc_auc_score(y_test, y_pred_proba))\n",
        "\n",
        "baseline_fpr, baseline_tpr, _ = roc_curve(y_test, [0] * len(y_test))\n",
        "fpr, tpr, thresholds = roc_curve(y_test, y_pred_proba)\n",
        "\n",
        "plt.plot(baseline_fpr, baseline_tpr, linestyle=\"--\", color=\"green\", label=\"Baseline\")\n",
        "plt.plot(fpr, tpr, color=\"blue\", label=\"Model\")\n",
        "plt.scatter(fpr, tpr, color=\"red\")\n",
        "plt.title(\"ROC curve\")\n",
        "plt.xlabel(\"FPR\")\n",
        "plt.ylabel(\"TPR\")\n",
        "plt.show()"
      ],
      "metadata": {
        "id": "jKSvJ0iRy_do"
      },
      "execution_count": null,
      "outputs": []
    },
    {
      "cell_type": "code",
      "source": [
        "y_pred = model.predict(X_test_encoded)"
      ],
      "metadata": {
        "id": "Cbogj7VR2tXB"
      },
      "execution_count": null,
      "outputs": []
    },
    {
      "cell_type": "code",
      "source": [
        "from sklearn.preprocessing import Binarizer\n",
        "\n",
        "binarizer = Binarizer(threshold = 0.478)\n",
        "proba_1 = model.predict_proba(X_test_encoded)[:,1].reshape(-1,1)\n",
        "custom_pred = binarizer.fit_transform(proba_1)\n"
      ],
      "metadata": {
        "id": "fEe-cbVl0EOf"
      },
      "execution_count": null,
      "outputs": []
    },
    {
      "cell_type": "code",
      "source": [
        "recall=recall_score(y_test, model.predict(X_test_encoded))\n",
        "acc=accuracy_score(y_test, model.predict(X_test_encoded))\n",
        "\n",
        "print(f\"재현율:{recall}, 정확도:{acc:.4f}\")"
      ],
      "metadata": {
        "id": "Pt3adeEr4sSv"
      },
      "execution_count": null,
      "outputs": []
    },
    {
      "cell_type": "code",
      "source": [
        "recall=recall_score(y_test, custom_pred)\n",
        "acc=accuracy_score(y_test, custom_pred)\n",
        "\n",
        "print(f\"재현율:{recall}, 정확도:{acc:.4f}\")"
      ],
      "metadata": {
        "id": "NckIQaPq4Yc5"
      },
      "execution_count": null,
      "outputs": []
    },
    {
      "cell_type": "code",
      "source": [
        "cm = confusion_matrix(y_test, custom_pred)\n",
        "\n",
        "disp = ConfusionMatrixDisplay(cm)\n",
        "disp.plot(cmap='Blues')\n",
        "        \n",
        "plt.show()"
      ],
      "metadata": {
        "id": "cGduFfGG4kfm"
      },
      "execution_count": null,
      "outputs": []
    },
    {
      "cell_type": "markdown",
      "source": [
        "# pdp 모델해석\n"
      ],
      "metadata": {
        "id": "8wZ8ron78Avy"
      }
    },
    {
      "cell_type": "markdown",
      "source": [],
      "metadata": {
        "id": "MwkVWkOd9hkm"
      }
    },
    {
      "cell_type": "code",
      "source": [
        "target_feature = 'vendor'\n",
        "mappings = encoder.mapping\n",
        "print(mappings)\n",
        "\n",
        "mapping_data = list(filter(lambda x: x[\"col\"] == target_feature, mappings))\n",
        "print(mapping_data)\n",
        "\n",
        "# mapping은 pandas series 형태로 저장되어 있습니다. index가 원래 값이고, value가 인코딩된 수치형 값입니다.\n",
        "maps = mapping_data[0][\"mapping\"]\n",
        "print(type(maps))\n",
        "print(maps)"
      ],
      "metadata": {
        "colab": {
          "base_uri": "https://localhost:8080/"
        },
        "id": "LQifr4WN8Ffy",
        "outputId": "1ed57b6e-07a1-4e48-af1d-add2ed063bc2"
      },
      "execution_count": null,
      "outputs": [
        {
          "output_type": "stream",
          "name": "stdout",
          "text": [
            "[{'col': 'artist', 'mapping': D-CRUNCH                      1\n",
            "DAY6                          2\n",
            "SEVENTEEN                     3\n",
            "하성운                           4\n",
            "조명섭                           5\n",
            "                           ... \n",
            "JOHN NOH & YEONG YEOL KO    507\n",
            "The Quiett                  508\n",
            "강승윤                         509\n",
            "CNBlue                      510\n",
            "Lee Hi                      511\n",
            "Length: 511, dtype: int64, 'data_type': dtype('O')}, {'col': 'vendor', 'mapping': kpopstoreinusa    1\n",
            "musicplaza        2\n",
            "kpopalbums        3\n",
            "jypshop           4\n",
            "smglobalshop      5\n",
            "NaN              -2\n",
            "dtype: int64, 'data_type': dtype('O')}, {'col': 'category', 'mapping': ALBUM                 1\n",
            "ect                   2\n",
            "Badge & Keyring       3\n",
            "LIGHT STICK           4\n",
            "SEASON’S GREETINGS    5\n",
            "OST                   6\n",
            "NaN                  -2\n",
            "dtype: int64, 'data_type': dtype('O')}, {'col': 'type', 'mapping': NaN                 1\n",
            "Mini                2\n",
            "PHOTO BOOK          3\n",
            "single              4\n",
            "KIHNO               5\n",
            "DIGIPACK            6\n",
            "LIMITED EDITION     7\n",
            "Special             8\n",
            "Repackage           9\n",
            "OST                10\n",
            "정규                 11\n",
            "dtype: int64, 'data_type': dtype('O')}]\n",
            "[{'col': 'vendor', 'mapping': kpopstoreinusa    1\n",
            "musicplaza        2\n",
            "kpopalbums        3\n",
            "jypshop           4\n",
            "smglobalshop      5\n",
            "NaN              -2\n",
            "dtype: int64, 'data_type': dtype('O')}]\n",
            "<class 'pandas.core.series.Series'>\n",
            "kpopstoreinusa    1\n",
            "musicplaza        2\n",
            "kpopalbums        3\n",
            "jypshop           4\n",
            "smglobalshop      5\n",
            "NaN              -2\n",
            "dtype: int64\n"
          ]
        }
      ]
    },
    {
      "cell_type": "code",
      "source": [
        "# 우선 인코딩된 후의 값을 기준으로 PDP를 그려 봅시다.\n",
        "from pdpbox.pdp import pdp_isolate, pdp_plot\n",
        "pdp_dist = pdp_isolate(\n",
        "    model=model,\n",
        "    dataset=X_val_encoded,\n",
        "    model_features=X_val.columns,\n",
        "    feature=target_feature,\n",
        "    cust_grid_points=[-2, 1, 2, 3, 4, 5],  # 특성값을 찍어 볼 지점을 직접 지정할 수 있습니다.\n",
        ")\n",
        "pdp_plot(pdp_dist, target_feature)  # 인코딩된 marital-status 값을 확인할 수 있습니다"
      ],
      "metadata": {
        "colab": {
          "base_uri": "https://localhost:8080/",
          "height": 699
        },
        "id": "4ekJ_xnh9q-w",
        "outputId": "4d1f9397-77d1-4d98-94dd-df0d71d3f2bb"
      },
      "execution_count": null,
      "outputs": [
        {
          "output_type": "execute_result",
          "data": {
            "text/plain": [
              "(<Figure size 1080x684 with 2 Axes>,\n",
              " {'title_ax': <matplotlib.axes._subplots.AxesSubplot at 0x7fb9434835b0>,\n",
              "  'pdp_ax': <matplotlib.axes._subplots.AxesSubplot at 0x7fb9434845b0>})"
            ]
          },
          "metadata": {},
          "execution_count": 29
        },
        {
          "output_type": "stream",
          "name": "stderr",
          "text": [
            "WARNING:matplotlib.font_manager:findfont: Font family ['Arial'] not found. Falling back to DejaVu Sans.\n",
            "WARNING:matplotlib.font_manager:findfont: Font family ['Arial'] not found. Falling back to DejaVu Sans.\n",
            "WARNING:matplotlib.font_manager:findfont: Font family ['Arial'] not found. Falling back to DejaVu Sans.\n",
            "WARNING:matplotlib.font_manager:findfont: Font family ['Arial'] not found. Falling back to DejaVu Sans.\n"
          ]
        },
        {
          "output_type": "display_data",
          "data": {
            "text/plain": [
              "<Figure size 1080x684 with 2 Axes>"
            ],
            "image/png": "[encoded data removed]"
          },
          "metadata": {
            "needs_background": "light"
          }
        }
      ]
    },
    {
      "cell_type": "code",
      "source": [
        "# 인코딩된 특성값과 원래 특성값을 리스트로 가져옵니다.\n",
        "encoded_features = maps.values.tolist()\n",
        "original_features = maps.index.tolist()\n",
        "print(encoded_features, original_features)"
      ],
      "metadata": {
        "colab": {
          "base_uri": "https://localhost:8080/"
        },
        "id": "htoHWy7I9uCv",
        "outputId": "7e040165-20c2-4d86-f91f-5f2eaedaba98"
      },
      "execution_count": null,
      "outputs": [
        {
          "output_type": "stream",
          "name": "stdout",
          "text": [
            "[1, 2, 3, 4, 5, -2] ['kpopstoreinusa', 'musicplaza', 'kpopalbums', 'jypshop', 'smglobalshop', nan]\n"
          ]
        }
      ]
    },
    {
      "cell_type": "code",
      "source": [
        "pdp_plot(pdp_dist, target_feature)\n",
        "\n",
        "# plot의 x축에 표시될 값을 encoded features에서 original features로 매핑해 줍니다.\n",
        "plt.xticks(encoded_features, original_features, rotation=90)"
      ],
      "metadata": {
        "colab": {
          "base_uri": "https://localhost:8080/",
          "height": 766
        },
        "id": "kramq0QD-cdV",
        "outputId": "9184e81b-af9b-4d1a-c233-4c9fb99b4868"
      },
      "execution_count": null,
      "outputs": [
        {
          "output_type": "execute_result",
          "data": {
            "text/plain": [
              "([<matplotlib.axis.XTick at 0x7fb941a7b0a0>,\n",
              "  <matplotlib.axis.XTick at 0x7fb941a7b070>,\n",
              "  <matplotlib.axis.XTick at 0x7fb941a97a60>,\n",
              "  <matplotlib.axis.XTick at 0x7fb941aa3910>,\n",
              "  <matplotlib.axis.XTick at 0x7fb941aa3e20>,\n",
              "  <matplotlib.axis.XTick at 0x7fb941aa8400>],\n",
              " <a list of 6 Text xticklabel objects>)"
            ]
          },
          "metadata": {},
          "execution_count": 31
        },
        {
          "output_type": "display_data",
          "data": {
            "text/plain": [
              "<Figure size 1080x684 with 2 Axes>"
            ],
            "image/png": "[encoded data removed]"
          },
          "metadata": {
            "needs_background": "light"
          }
        }
      ]
    },
    {
      "cell_type": "code",
      "source": [
        "target_feature = 'type'\n",
        "\n",
        "mapping_data = list(filter(lambda x: x[\"col\"] == target_feature, mappings))\n",
        "print(mapping_data)\n",
        "\n",
        "# mapping은 pandas series 형태로 저장되어 있습니다. index가 원래 값이고, value가 인코딩된 수치형 값입니다.\n",
        "maps = mapping_data[0][\"mapping\"]\n",
        "print(type(maps))\n",
        "print(maps)"
      ],
      "metadata": {
        "colab": {
          "base_uri": "https://localhost:8080/"
        },
        "id": "qwsgIMPfCSO-",
        "outputId": "4ddb575e-01ee-4b2a-d0df-377e0b62222c"
      },
      "execution_count": null,
      "outputs": [
        {
          "output_type": "stream",
          "name": "stdout",
          "text": [
            "[{'col': 'type', 'mapping': NaN                 1\n",
            "Mini                2\n",
            "PHOTO BOOK          3\n",
            "single              4\n",
            "KIHNO               5\n",
            "DIGIPACK            6\n",
            "LIMITED EDITION     7\n",
            "Special             8\n",
            "Repackage           9\n",
            "OST                10\n",
            "정규                 11\n",
            "dtype: int64, 'data_type': dtype('O')}]\n",
            "<class 'pandas.core.series.Series'>\n",
            "NaN                 1\n",
            "Mini                2\n",
            "PHOTO BOOK          3\n",
            "single              4\n",
            "KIHNO               5\n",
            "DIGIPACK            6\n",
            "LIMITED EDITION     7\n",
            "Special             8\n",
            "Repackage           9\n",
            "OST                10\n",
            "정규                 11\n",
            "dtype: int64\n"
          ]
        }
      ]
    },
    {
      "cell_type": "code",
      "source": [
        "from pdpbox.pdp import pdp_isolate, pdp_plot\n",
        "pdp_dist = pdp_isolate(\n",
        "    model=model,\n",
        "    dataset=X_val_encoded,\n",
        "    model_features=X_val.columns,\n",
        "    feature=target_feature,\n",
        "    cust_grid_points=[1, 2, 3, 4, 5,6,7,8,9,10,11],  # 특성값을 찍어 볼 지점을 직접 지정할 수 있습니다.\n",
        ")\n",
        "pdp_plot(pdp_dist, target_feature)"
      ],
      "metadata": {
        "colab": {
          "base_uri": "https://localhost:8080/",
          "height": 630
        },
        "id": "UznTtl7wCSDG",
        "outputId": "2b0ab9cb-242e-4dfc-f3cd-69a717920b40"
      },
      "execution_count": null,
      "outputs": [
        {
          "output_type": "execute_result",
          "data": {
            "text/plain": [
              "(<Figure size 1080x684 with 2 Axes>,\n",
              " {'title_ax': <matplotlib.axes._subplots.AxesSubplot at 0x7fb941a52430>,\n",
              "  'pdp_ax': <matplotlib.axes._subplots.AxesSubplot at 0x7fb941a701c0>})"
            ]
          },
          "metadata": {},
          "execution_count": 33
        },
        {
          "output_type": "display_data",
          "data": {
            "text/plain": [
              "<Figure size 1080x684 with 2 Axes>"
            ],
            "image/png": "[encoded data removed]"
          },
          "metadata": {
            "needs_background": "light"
          }
        }
      ]
    },
    {
      "cell_type": "code",
      "source": [
        "# #한글 폰트 설치\n",
        "# !apt-get update -qq\n",
        "# !apt-get install fonts-nanum* -qq"
      ],
      "metadata": {
        "id": "Sn20zo4vDyv7"
      },
      "execution_count": null,
      "outputs": []
    },
    {
      "cell_type": "code",
      "source": [
        "#한글 폰트 설치\n",
        "import matplotlib.pyplot as plt\n",
        "import matplotlib.font_manager as fm\n",
        "fm._rebuild()\n",
        "plt.rc('font', family='NanumGothic')\n",
        "\n",
        "for fontInfo in fm.fontManager.ttflist:\n",
        "    if 'Nanum' in fontInfo.name:\n",
        "        print(fontInfo.name+\" = \"+fontInfo.fname)"
      ],
      "metadata": {
        "colab": {
          "base_uri": "https://localhost:8080/"
        },
        "id": "jmlGM5ZtEF62",
        "outputId": "fab40451-7ec7-480d-de6f-2ae2917d4b86"
      },
      "execution_count": null,
      "outputs": [
        {
          "output_type": "stream",
          "name": "stdout",
          "text": [
            "NanumSquare = /usr/share/fonts/truetype/nanum/NanumSquareL.ttf\n",
            "NanumBarunGothic = /usr/share/fonts/truetype/nanum/NanumBarunGothicLight.ttf\n",
            "NanumBarunpen = /usr/share/fonts/truetype/nanum/NanumBarunpenB.ttf\n",
            "NanumMyeongjo Eco = /usr/share/fonts/truetype/nanum/NanumMyeongjoEco.ttf\n",
            "NanumGothic = /usr/share/fonts/truetype/nanum/NanumGothicExtraBold.ttf\n",
            "NanumGothic = /usr/share/fonts/truetype/nanum/NanumGothic.ttf\n",
            "NanumBarunGothic = /usr/share/fonts/truetype/nanum/NanumBarunGothicUltraLight.ttf\n",
            "NanumGothic = /usr/share/fonts/truetype/nanum/NanumGothicLight.ttf\n",
            "NanumSquare = /usr/share/fonts/truetype/nanum/NanumSquareR.ttf\n",
            "NanumSquareRound = /usr/share/fonts/truetype/nanum/NanumSquareRoundB.ttf\n",
            "NanumGothicCoding = /usr/share/fonts/truetype/nanum/NanumGothicCoding-Bold.ttf\n",
            "NanumGothicCoding = /usr/share/fonts/truetype/nanum/NanumGothicCoding.ttf\n",
            "NanumSquare = /usr/share/fonts/truetype/nanum/NanumSquareEB.ttf\n",
            "NanumGothic = /usr/share/fonts/truetype/nanum/NanumGothicBold.ttf\n",
            "NanumBarunpen = /usr/share/fonts/truetype/nanum/NanumBarunpenR.ttf\n",
            "NanumMyeongjo = /usr/share/fonts/truetype/nanum/NanumMyeongjo.ttf\n",
            "NanumBarunGothic = /usr/share/fonts/truetype/nanum/NanumBarunGothic.ttf\n",
            "NanumBarunGothic = /usr/share/fonts/truetype/nanum/NanumBarunGothicBold.ttf\n",
            "NanumMyeongjo = /usr/share/fonts/truetype/nanum/NanumMyeongjoBold.ttf\n",
            "Nanum Pen Script = /usr/share/fonts/truetype/nanum/NanumPen.ttf\n",
            "NanumSquareRound = /usr/share/fonts/truetype/nanum/NanumSquareRoundR.ttf\n",
            "NanumGothic Eco = /usr/share/fonts/truetype/nanum/NanumGothicEcoExtraBold.ttf\n",
            "NanumMyeongjo Eco = /usr/share/fonts/truetype/nanum/NanumMyeongjoEcoBold.ttf\n",
            "NanumMyeongjo Eco = /usr/share/fonts/truetype/nanum/NanumMyeongjoEcoExtraBold.ttf\n",
            "NanumMyeongjo = /usr/share/fonts/truetype/nanum/NanumMyeongjoExtraBold.ttf\n",
            "NanumGothic Eco = /usr/share/fonts/truetype/nanum/NanumGothicEcoBold.ttf\n",
            "Nanum Brush Script = /usr/share/fonts/truetype/nanum/NanumBrush.ttf\n",
            "NanumSquareRound = /usr/share/fonts/truetype/nanum/NanumSquareRoundEB.ttf\n",
            "NanumSquareRound = /usr/share/fonts/truetype/nanum/NanumSquareRoundL.ttf\n",
            "NanumSquare = /usr/share/fonts/truetype/nanum/NanumSquareB.ttf\n",
            "NanumGothic Eco = /usr/share/fonts/truetype/nanum/NanumGothicEco.ttf\n"
          ]
        }
      ]
    },
    {
      "cell_type": "code",
      "source": [
        "# 인코딩된 특성값과 원래 특성값을 리스트로 가져옵니다.\n",
        "encoded_features = maps.values.tolist()\n",
        "original_features = maps.index.tolist()\n",
        "print(encoded_features, original_features)\n",
        "\n",
        "pdp_plot(pdp_dist, target_feature)\n",
        "\n",
        "# plot의 x축에 표시될 값을 encoded features에서 original features로 매핑해 줍니다.\n",
        "plt.xticks(encoded_features, original_features, rotation=90)\n",
        "plt.rc('font', family=font_name)"
      ],
      "metadata": {
        "colab": {
          "base_uri": "https://localhost:8080/",
          "height": 853
        },
        "id": "lMGf9ryODGvC",
        "outputId": "711fdcd0-32c9-470d-9092-be003170abcb"
      },
      "execution_count": null,
      "outputs": [
        {
          "output_type": "stream",
          "name": "stdout",
          "text": [
            "[1, 2, 3, 4, 5, 6, 7, 8, 9, 10, 11] [nan, 'Mini', 'PHOTO BOOK', 'single', 'KIHNO', 'DIGIPACK', 'LIMITED EDITION', 'Special', 'Repackage', 'OST', '정규']\n"
          ]
        },
        {
          "output_type": "error",
          "ename": "NameError",
          "evalue": "ignored",
          "traceback": [
            "\u001b[0;31m---------------------------------------------------------------------------\u001b[0m",
            "\u001b[0;31mNameError\u001b[0m                                 Traceback (most recent call last)",
            "\u001b[0;32m<ipython-input-35-c689787fa39f>\u001b[0m in \u001b[0;36m<module>\u001b[0;34m\u001b[0m\n\u001b[1;32m      8\u001b[0m \u001b[0;31m# plot의 x축에 표시될 값을 encoded features에서 original features로 매핑해 줍니다.\u001b[0m\u001b[0;34m\u001b[0m\u001b[0;34m\u001b[0m\u001b[0;34m\u001b[0m\u001b[0m\n\u001b[1;32m      9\u001b[0m \u001b[0mplt\u001b[0m\u001b[0;34m.\u001b[0m\u001b[0mxticks\u001b[0m\u001b[0;34m(\u001b[0m\u001b[0mencoded_features\u001b[0m\u001b[0;34m,\u001b[0m \u001b[0moriginal_features\u001b[0m\u001b[0;34m,\u001b[0m \u001b[0mrotation\u001b[0m\u001b[0;34m=\u001b[0m\u001b[0;36m90\u001b[0m\u001b[0;34m)\u001b[0m\u001b[0;34m\u001b[0m\u001b[0;34m\u001b[0m\u001b[0m\n\u001b[0;32m---> 10\u001b[0;31m \u001b[0mplt\u001b[0m\u001b[0;34m.\u001b[0m\u001b[0mrc\u001b[0m\u001b[0;34m(\u001b[0m\u001b[0;34m'font'\u001b[0m\u001b[0;34m,\u001b[0m \u001b[0mfamily\u001b[0m\u001b[0;34m=\u001b[0m\u001b[0mfont_name\u001b[0m\u001b[0;34m)\u001b[0m\u001b[0;34m\u001b[0m\u001b[0;34m\u001b[0m\u001b[0m\n\u001b[0m",
            "\u001b[0;31mNameError\u001b[0m: name 'font_name' is not defined"
          ]
        },
        {
          "output_type": "display_data",
          "data": {
            "text/plain": [
              "<Figure size 1080x684 with 2 Axes>"
            ],
            "image/png": "[encoded data removed]"
          },
          "metadata": {
            "needs_background": "light"
          }
        }
      ]
    },
    {
      "cell_type": "code",
      "source": [
        "target_feature = 'category'\n",
        "\n",
        "mapping_data = list(filter(lambda x: x[\"col\"] == target_feature, mappings))\n",
        "print(mapping_data)\n",
        "\n",
        "# mapping은 pandas series 형태로 저장되어 있습니다. index가 원래 값이고, value가 인코딩된 수치형 값입니다.\n",
        "maps = mapping_data[0][\"mapping\"]\n",
        "print(type(maps))\n",
        "print(maps)"
      ],
      "metadata": {
        "id": "uPzCAOzbUARS"
      },
      "execution_count": null,
      "outputs": []
    },
    {
      "cell_type": "code",
      "source": [
        "from pdpbox.pdp import pdp_isolate, pdp_plot\n",
        "pdp_dist = pdp_isolate(\n",
        "    model=model,\n",
        "    dataset=X_val_encoded,\n",
        "    model_features=X_val.columns,\n",
        "    feature=target_feature,\n",
        "    cust_grid_points=[1, 2, 3, 4, 5,6],  # 특성값을 찍어 볼 지점을 직접 지정할 수 있습니다.\n",
        ")\n",
        "pdp_plot(pdp_dist, target_feature)"
      ],
      "metadata": {
        "id": "SwUTQGz9UHWa"
      },
      "execution_count": null,
      "outputs": []
    },
    {
      "cell_type": "code",
      "source": [
        "# 인코딩된 특성값과 원래 특성값을 리스트로 가져옵니다.\n",
        "encoded_features = maps.values.tolist()\n",
        "original_features = maps.index.tolist()\n",
        "print(encoded_features, original_features)\n",
        "\n",
        "pdp_plot(pdp_dist, target_feature)\n",
        "\n",
        "# plot의 x축에 표시될 값을 encoded features에서 original features로 매핑해 줍니다.\n",
        "plt.xticks(encoded_features, original_features, rotation=90)"
      ],
      "metadata": {
        "id": "i0RmfTykUXYX"
      },
      "execution_count": null,
      "outputs": []
    },
    {
      "cell_type": "code",
      "source": [
        "# dpi(dots per inch) 수치를 조정해 이미지 화질을 조정 할 수 있습니다\n",
        "import matplotlib.pyplot as plt\n",
        "\n",
        "plt.rcParams[\"figure.dpi\"] = 144"
      ],
      "metadata": {
        "id": "wyckd2xT-zWC"
      },
      "execution_count": null,
      "outputs": []
    },
    {
      "cell_type": "code",
      "source": [
        "X_val.columns"
      ],
      "metadata": {
        "id": "9DKMvCdl_ssd"
      },
      "execution_count": null,
      "outputs": []
    },
    {
      "cell_type": "code",
      "source": [
        "from pdpbox.pdp import pdp_isolate, pdp_plot\n",
        "\n",
        "target_feature = 'price'\n",
        "\n",
        "isolated = pdp_isolate(\n",
        "    model= model,\n",
        "    dataset= X_val_encoded,\n",
        "    model_features= X_val.columns,\n",
        "    feature = target_feature,\n",
        "    grid_type= \"percentile\",  # default = 'percentile', or 'equal'\n",
        "    num_grid_points=15,  # default = 10\n",
        ")\n",
        "pdp_plot(isolated, feature_name=target_feature)"
      ],
      "metadata": {
        "id": "u6iu-s54_STX"
      },
      "execution_count": null,
      "outputs": []
    },
    {
      "cell_type": "code",
      "source": [
        "pdp_plot(\n",
        "    isolated,\n",
        "    feature_name=target_feature,\n",
        "    plot_lines=True,  # ICE plots\n",
        "    frac_to_plot=50,  # float type을 입력하면 전체 데이터 갯수 중 plotting할 데이터 수의 비율이 됩니다. int type을 입력하면 데이터의 수가 됩니다.\n",
        "    plot_pts_dist=True,\n",
        ")"
      ],
      "metadata": {
        "id": "LK5hsDGHABwo"
      },
      "execution_count": null,
      "outputs": []
    },
    {
      "cell_type": "code",
      "source": [
        "X_val_imput = X_val_imput[['artist', 'discount_price', 'price', 'vendor', 'is_autograph',\n",
        "       'presale', 'is_event', 'category', 'type', 'count', 'artist_isna']].astype('int')\n"
      ],
      "metadata": {
        "id": "ir_Q-6F4IHqk"
      },
      "execution_count": null,
      "outputs": []
    },
    {
      "cell_type": "code",
      "source": [
        "from pdpbox.pdp import pdp_isolate, pdp_plot\n",
        "\n",
        "target_feature = 'discount_price'\n",
        "\n",
        "isolated = pdp_isolate(\n",
        "    model= model,\n",
        "    dataset= X_val_imput,\n",
        "    model_features= X_val.columns,\n",
        "    feature = target_feature,\n",
        "    grid_type= \"equal\",  # default = 'percentile', or 'equal'\n",
        "    num_grid_points=15,  # default = 10\n",
        ")\n",
        "pdp_plot(isolated, feature_name=target_feature)"
      ],
      "metadata": {
        "id": "FsVlDO8MEbeI"
      },
      "execution_count": null,
      "outputs": []
    },
    {
      "cell_type": "code",
      "source": [
        "pdp_plot(\n",
        "    isolated,\n",
        "    feature_name=target_feature,\n",
        "    plot_lines=True,  # ICE plots\n",
        "    frac_to_plot=50,  # float type을 입력하면 전체 데이터 갯수 중 plotting할 데이터 수의 비율이 됩니다. int type을 입력하면 데이터의 수가 됩니다.\n",
        "    plot_pts_dist=True,\n",
        ")"
      ],
      "metadata": {
        "id": "N65Gx6TYFReC"
      },
      "execution_count": null,
      "outputs": []
    },
    {
      "cell_type": "code",
      "source": [
        "from pdpbox.pdp import pdp_isolate, pdp_plot\n",
        "\n",
        "target_feature = 'count'\n",
        "\n",
        "isolated = pdp_isolate(\n",
        "    model= model,\n",
        "    dataset= X_val_encoded,\n",
        "    model_features= X_val.columns,\n",
        "    feature = target_feature,\n",
        "    grid_type= \"percentile\",  # default = 'percentile', or 'equal'\n",
        "    num_grid_points=20,  # default = 10\n",
        ")\n",
        "pdp_plot(isolated, feature_name=target_feature)"
      ],
      "metadata": {
        "id": "E4nkMNCQJhFb"
      },
      "execution_count": null,
      "outputs": []
    },
    {
      "cell_type": "code",
      "source": [
        "pdp_plot(\n",
        "    isolated,\n",
        "    feature_name=target_feature,\n",
        "    plot_lines=True,  # ICE plots\n",
        "    frac_to_plot=50,  # float type을 입력하면 전체 데이터 갯수 중 plotting할 데이터 수의 비율이 됩니다. int type을 입력하면 데이터의 수가 됩니다.\n",
        "    plot_pts_dist=True,\n",
        ")"
      ],
      "metadata": {
        "id": "OE-U0PKJKlBR"
      },
      "execution_count": null,
      "outputs": []
    },
    {
      "cell_type": "code",
      "source": [],
      "metadata": {
        "id": "HPVBe9T8LLv2"
      },
      "execution_count": null,
      "outputs": []
    }
  ]
}